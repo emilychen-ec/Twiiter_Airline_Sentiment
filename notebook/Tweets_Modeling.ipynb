{
 "cells": [
  {
   "cell_type": "markdown",
   "id": "ec864b57",
   "metadata": {},
   "source": [
    "# Tweets Airline Project - Preprocessing and Modeling\n",
    "***"
   ]
  },
  {
   "cell_type": "markdown",
   "id": "370dc5a7",
   "metadata": {},
   "source": [
    "## Contents<a id='Table of Contents'></a>\n",
    "\n",
    "- [Imports](#Imports)\n",
    "- [Load The Data](#Load_The_Data)\n",
    "- [Train/Test Split](#Train_Test_Split)\n",
    "- [Preprocessing](#Preprocessing)\n",
    "  - [Preprocess Text](#Preprocess_Text)\n",
    "  - [CountVectorize Text](#CountVectorize_Text)\n",
    "  - [TfidfVectorize Text](#TfidfVectorize_Text)\n",
    "  - [Create ytrain](#Create_ytrain)\n",
    "- [Multinomial Naive Bayes Model](#Multinomial_Naive_Bayes_Model)\n",
    "  - [With Count Vectorization](#With_Count_Vectorization)\n",
    "  - [With TFIDF Vectorization](#With_TFIDF_Vectorization)\n",
    "- [Logistic Regression Model](#Logistic_Regression_Model)\n",
    "  - [With Count Vectorization](#With_Count_Vectorization_LR)\n",
    "  - [With TFIDF Vectorization](#With_TFIDF_Vectorization_LR)\n",
    "- [Predicted Error](#Predicted_Error)\n",
    "- [Test Data](#Test_Data)\n",
    "  - [Multinomial Naive Bayes Model](#Multinomial_Naive_Bayes_Model_TEST)\n",
    "  - [Logistic Regression Model](#Logistic_Regression_Model_TEST)\n",
    "  - [Confusion Matrix](#Confusion_Matrix)\n",
    "- [Predictive Words](#Predictive_Words) \n",
    "  - [Method 1](#Method_1) \n",
    "  - [Method 2](#Method_2)\n",
    "- [Conclusions](#Conclusions)"
   ]
  },
  {
   "cell_type": "markdown",
   "id": "e2441341",
   "metadata": {},
   "source": [
    "### Imports<a id='Imports'></a>\n",
    "***"
   ]
  },
  {
   "cell_type": "code",
   "execution_count": 1,
   "id": "7b1b1b65",
   "metadata": {},
   "outputs": [],
   "source": [
    "import pandas as pd\n",
    "import numpy as np\n",
    "import seaborn as sns\n",
    "import matplotlib\n",
    "import matplotlib.pyplot as plt\n",
    "import matplotlib as mpl\n",
    "from sklearn.metrics import ConfusionMatrixDisplay\n",
    "import os\n",
    "\n",
    "from sklearn import preprocessing\n",
    "from scipy.stats import chi2_contingency\n",
    "import scipy.stats as ss\n",
    "\n",
    "import warnings\n",
    "warnings.filterwarnings('ignore')"
   ]
  },
  {
   "cell_type": "markdown",
   "id": "a68dadef",
   "metadata": {},
   "source": [
    "### Load The Data<a id='Load_The_Data'></a>\n",
    "***"
   ]
  },
  {
   "cell_type": "code",
   "execution_count": 2,
   "id": "2af05abd",
   "metadata": {},
   "outputs": [],
   "source": [
    "tweets_n = pd.read_csv('../data/tweets_n.csv', index_col=0)"
   ]
  },
  {
   "cell_type": "code",
   "execution_count": 3,
   "id": "5fe5cca8",
   "metadata": {},
   "outputs": [
    {
     "data": {
      "text/html": [
       "<div>\n",
       "<style scoped>\n",
       "    .dataframe tbody tr th:only-of-type {\n",
       "        vertical-align: middle;\n",
       "    }\n",
       "\n",
       "    .dataframe tbody tr th {\n",
       "        vertical-align: top;\n",
       "    }\n",
       "\n",
       "    .dataframe thead th {\n",
       "        text-align: right;\n",
       "    }\n",
       "</style>\n",
       "<table border=\"1\" class=\"dataframe\">\n",
       "  <thead>\n",
       "    <tr style=\"text-align: right;\">\n",
       "      <th></th>\n",
       "      <th>tweet_id</th>\n",
       "      <th>airline_sentiment</th>\n",
       "      <th>airline_sentiment_confidence</th>\n",
       "      <th>negativereason</th>\n",
       "      <th>negativereason_confidence</th>\n",
       "      <th>airline</th>\n",
       "      <th>name</th>\n",
       "      <th>retweet_count</th>\n",
       "      <th>text</th>\n",
       "      <th>tweet_location</th>\n",
       "      <th>user_timezone</th>\n",
       "      <th>created_date</th>\n",
       "      <th>created_hour</th>\n",
       "    </tr>\n",
       "  </thead>\n",
       "  <tbody>\n",
       "    <tr>\n",
       "      <th>0</th>\n",
       "      <td>570306133677760513</td>\n",
       "      <td>neutral</td>\n",
       "      <td>1.0000</td>\n",
       "      <td>NaN</td>\n",
       "      <td>NaN</td>\n",
       "      <td>Virgin America</td>\n",
       "      <td>cairdin</td>\n",
       "      <td>0</td>\n",
       "      <td>@VirginAmerica What @dhepburn said.</td>\n",
       "      <td>NaN</td>\n",
       "      <td>Eastern Time (US &amp; Canada)</td>\n",
       "      <td>2015-02-24</td>\n",
       "      <td>11</td>\n",
       "    </tr>\n",
       "    <tr>\n",
       "      <th>1</th>\n",
       "      <td>570301130888122368</td>\n",
       "      <td>positive</td>\n",
       "      <td>0.3486</td>\n",
       "      <td>NaN</td>\n",
       "      <td>0.0</td>\n",
       "      <td>Virgin America</td>\n",
       "      <td>jnardino</td>\n",
       "      <td>0</td>\n",
       "      <td>@VirginAmerica plus you've added commercials t...</td>\n",
       "      <td>NaN</td>\n",
       "      <td>Pacific Time (US &amp; Canada)</td>\n",
       "      <td>2015-02-24</td>\n",
       "      <td>11</td>\n",
       "    </tr>\n",
       "    <tr>\n",
       "      <th>2</th>\n",
       "      <td>570301083672813571</td>\n",
       "      <td>neutral</td>\n",
       "      <td>0.6837</td>\n",
       "      <td>NaN</td>\n",
       "      <td>NaN</td>\n",
       "      <td>Virgin America</td>\n",
       "      <td>yvonnalynn</td>\n",
       "      <td>0</td>\n",
       "      <td>@VirginAmerica I didn't today... Must mean I n...</td>\n",
       "      <td>LetsPlay</td>\n",
       "      <td>Central Time (US &amp; Canada)</td>\n",
       "      <td>2015-02-24</td>\n",
       "      <td>11</td>\n",
       "    </tr>\n",
       "  </tbody>\n",
       "</table>\n",
       "</div>"
      ],
      "text/plain": [
       "             tweet_id airline_sentiment  airline_sentiment_confidence  \\\n",
       "0  570306133677760513           neutral                        1.0000   \n",
       "1  570301130888122368          positive                        0.3486   \n",
       "2  570301083672813571           neutral                        0.6837   \n",
       "\n",
       "  negativereason  negativereason_confidence         airline        name  \\\n",
       "0            NaN                        NaN  Virgin America     cairdin   \n",
       "1            NaN                        0.0  Virgin America    jnardino   \n",
       "2            NaN                        NaN  Virgin America  yvonnalynn   \n",
       "\n",
       "   retweet_count                                               text  \\\n",
       "0              0                @VirginAmerica What @dhepburn said.   \n",
       "1              0  @VirginAmerica plus you've added commercials t...   \n",
       "2              0  @VirginAmerica I didn't today... Must mean I n...   \n",
       "\n",
       "  tweet_location               user_timezone created_date  created_hour  \n",
       "0            NaN  Eastern Time (US & Canada)   2015-02-24            11  \n",
       "1            NaN  Pacific Time (US & Canada)   2015-02-24            11  \n",
       "2       LetsPlay  Central Time (US & Canada)   2015-02-24            11  "
      ]
     },
     "execution_count": 3,
     "metadata": {},
     "output_type": "execute_result"
    }
   ],
   "source": [
    "tweets_n.head(3)"
   ]
  },
  {
   "cell_type": "code",
   "execution_count": 4,
   "id": "24960594",
   "metadata": {},
   "outputs": [
    {
     "name": "stdout",
     "output_type": "stream",
     "text": [
      "<class 'pandas.core.frame.DataFrame'>\n",
      "Int64Index: 14640 entries, 0 to 14639\n",
      "Data columns (total 13 columns):\n",
      " #   Column                        Non-Null Count  Dtype  \n",
      "---  ------                        --------------  -----  \n",
      " 0   tweet_id                      14640 non-null  int64  \n",
      " 1   airline_sentiment             14640 non-null  object \n",
      " 2   airline_sentiment_confidence  14640 non-null  float64\n",
      " 3   negativereason                9178 non-null   object \n",
      " 4   negativereason_confidence     10522 non-null  float64\n",
      " 5   airline                       14640 non-null  object \n",
      " 6   name                          14640 non-null  object \n",
      " 7   retweet_count                 14640 non-null  int64  \n",
      " 8   text                          14640 non-null  object \n",
      " 9   tweet_location                9893 non-null   object \n",
      " 10  user_timezone                 9820 non-null   object \n",
      " 11  created_date                  14640 non-null  object \n",
      " 12  created_hour                  14640 non-null  int64  \n",
      "dtypes: float64(2), int64(3), object(8)\n",
      "memory usage: 1.6+ MB\n"
     ]
    }
   ],
   "source": [
    "tweets_n.info()"
   ]
  },
  {
   "cell_type": "markdown",
   "id": "71500eb4",
   "metadata": {},
   "source": [
    "### Train/Test Split<a id='Train_Test_Split'></a>"
   ]
  },
  {
   "cell_type": "code",
   "execution_count": 6,
   "id": "3f80b333",
   "metadata": {},
   "outputs": [],
   "source": [
    "train, test = train_test_split(tweets_n, test_size=.2, random_state=8)"
   ]
  },
  {
   "cell_type": "markdown",
   "id": "e92419dd",
   "metadata": {},
   "source": [
    "### Preprocessing<a id='Preprocessing'></a>"
   ]
  },
  {
   "cell_type": "markdown",
   "id": "3df8583e",
   "metadata": {},
   "source": [
    "I created a preprocessor class to keep only English tweets,  turn text to lowercase, and remove mentions, hashtags, numbers, whitespaces, punctuations, special characters, and stopwords. Lastly, I lemmatize the text and output a completed data frame ready for modeling.\n"
   ]
  },
  {
   "cell_type": "code",
   "execution_count": 5,
   "id": "199aec0e",
   "metadata": {},
   "outputs": [],
   "source": [
    "# %load text_preprocessor.py\n",
    "import re\n",
    "import string\n",
    "import nltk\n",
    "from langdetect import detect\n",
    "from nltk.corpus import stopwords\n",
    "from nltk.tokenize import word_tokenize\n",
    "from nltk.corpus import wordnet as wn\n",
    "from nltk.stem.wordnet import WordNetLemmatizer\n",
    "from wordcloud import WordCloud, STOPWORDS\n",
    "from nltk import bigrams\n",
    "from nltk.util import ngrams \n",
    "from collections import Counter\n",
    "from functools import reduce\n",
    "from sklearn.feature_extraction.text import TfidfVectorizer\n",
    "from sklearn.feature_extraction.text import CountVectorizer\n",
    "\n",
    "#importing our models\n",
    "from sklearn.linear_model import LogisticRegression\n",
    "from sklearn.model_selection import GridSearchCV\n",
    "from sklearn.naive_bayes import MultinomialNB\n",
    "from sklearn.model_selection import train_test_split\n",
    "\n",
    "from sklearn import preprocessing\n",
    "\n",
    "\n",
    "#Model Evaluation\n",
    "from sklearn.metrics import accuracy_score\n",
    "from sklearn.metrics import confusion_matrix\n",
    "from sklearn.metrics import classification_report\n",
    "\n",
    "class TextPreprocessing():\n",
    "    \n",
    "    def __init__(self, dataset=None,txt=None):\n",
    "        self.dataset = dataset\n",
    "        self.txt = txt\n",
    "\n",
    "    def only_English(self):\n",
    "       \n",
    "        self.dataset.language = self.dataset.text.apply(detect)\n",
    "        self.dataset = self.dataset[self.dataset.language == 'en'] \n",
    "    \n",
    "    def _remove_mentions(self,txt):\n",
    "        #pattern = \"@([a-zA-Z0-9_]{1,20})\"\n",
    "        txt = re.sub(\"@[A-Za-z0-9_]+\",\"\", txt) \n",
    "        return txt\n",
    "        \n",
    "    def remove_mentions(self):\n",
    "        self.dataset.text = self.dataset.text.apply(lambda x: self._remove_mentions(x))\n",
    "            \n",
    "    def _remove_hashtags(self,txt):\n",
    "        pattern = \"#([a-zA-Z0-9_]{1,20})\"\n",
    "        txt = re.sub(pattern, '', txt)\n",
    "        return txt\n",
    "    \n",
    "    def remove_hashtags(self):\n",
    "        self.dataset.text = self.dataset.text.apply(lambda x: self._remove_hashtags(x))\n",
    "        return self.dataset.text       \n",
    "\n",
    "    def text_lower_case(self):\n",
    "        self.dataset.text= self.dataset.text.apply(lambda x: x.lower())\n",
    "        return self.dataset.text\n",
    "            \n",
    "    def remove_numbers(self):\n",
    "        self.dataset.text = self.dataset.text.apply(lambda x: re.sub(r'\\d+','', x))\n",
    "        return self.dataset.text\n",
    "    \n",
    "    def remove_whitespaces(self):\n",
    "        self.dataset.text = self.dataset.text.apply(lambda x: x.strip())\n",
    "        return self.dataset.text \n",
    "\n",
    "    def _remove_punct(self, txt):\n",
    "        txt = ''.join([char for char in txt if char not in string.punctuation])\n",
    "        txt = re.sub('[0–9]','', txt)\n",
    "        return txt\n",
    "\n",
    "    def remove_punct(self):\n",
    "        self.dataset.text = self.dataset.text.apply(lambda x: self._remove_punct(x))  \n",
    "        return self.dataset.text\n",
    "        \n",
    "    def _remove_special_characters(self, txt, remove_digits=False):\n",
    "        pattern = r'[^a-zA-z0-9\\s]' if not remove_digits else r'[^a-zA-z\\s]'\n",
    "        txt = re.sub(pattern, '', txt)\n",
    "        return txt\n",
    "\n",
    "    def remove_special_characters(self,remove_digits=False):\n",
    "        self.dataset.text = self.dataset.text.apply(lambda x: self._remove_special_characters(x))\n",
    "        return self.dataset.text\n",
    "    \n",
    "    def _remove_stopwords(self,txt):\n",
    "        stop_words = set(stopwords.words('english'))\n",
    "        stopword_list = nltk.corpus.stopwords.words('english')\n",
    "        stopword_list.remove('no')\n",
    "        stopword_list.remove('not')\n",
    "        tokens = word_tokenize(txt)\n",
    "        tokens = [token.strip() for token in tokens]\n",
    "        filtered_tokens = [token for token in tokens if token not in stopword_list]\n",
    "        filtered_text = ' '.join(filtered_tokens)    \n",
    "        return filtered_text\n",
    "    \n",
    "    def remove_stopwords(self):\n",
    "        self.dataset.text = self.dataset.text.apply(lambda x: self._remove_stopwords(x))\n",
    "        return self.dataset.text\n",
    "\n",
    "    def _lemmatize_text(self,txt):\n",
    "        lemmatizer = WordNetLemmatizer()\n",
    "        tokens_lemma = word_tokenize(txt)\n",
    "        tokens_lemma = [lemmatizer.lemmatize(w, 'v') for w in tokens_lemma]\n",
    "        return ' '.join(tokens_lemma)\n",
    "    \n",
    "    def lemmatize_text(self):\n",
    "        self.dataset.text = self.dataset.text.apply(lambda x: self._lemmatize_text(x))\n",
    "        return self.dataset.text       \n",
    "            \n",
    "    def get_dataset_text(self):\n",
    "        return self.dataset.text\n",
    "          \n",
    "    def preprocess(self):\n",
    "        self.only_English()    \n",
    "        self.remove_mentions()\n",
    "        self.text_lower_case()\n",
    "        self.remove_numbers()\n",
    "        self.remove_whitespaces()\n",
    "        self.remove_punct()      \n",
    "        self.remove_hashtags()\n",
    "        self.remove_special_characters()\n",
    "        self.remove_stopwords()\n",
    "        self.lemmatize_text()\n",
    "        \n",
    "        return self.get_dataset_text()\n",
    " "
   ]
  },
  {
   "cell_type": "markdown",
   "id": "54a62f32",
   "metadata": {},
   "source": [
    "#### Preprocess Text<a id='Preprocess_Text'></a>"
   ]
  },
  {
   "cell_type": "code",
   "execution_count": 7,
   "id": "4c401926",
   "metadata": {},
   "outputs": [
    {
     "data": {
      "text/plain": [
       "2181                    tell youre least go cover room get\n",
       "10601    say friend miss flight clearly sit next plane ...\n",
       "2033     tell change flight im ottawa airport ac cant f...\n",
       "9556     call time redeem mile point cant get advertise...\n",
       "4547                                      much ur wifi fam\n",
       "Name: text, dtype: object"
      ]
     },
     "execution_count": 7,
     "metadata": {},
     "output_type": "execute_result"
    }
   ],
   "source": [
    "X_train=TextPreprocessing(train).preprocess()\n",
    "X_train.tail(5)"
   ]
  },
  {
   "cell_type": "markdown",
   "id": "8bb44bec",
   "metadata": {},
   "source": [
    "#### CountVectorize Text<a id='CountVectorize_Text'></a>"
   ]
  },
  {
   "cell_type": "code",
   "execution_count": 15,
   "id": "ce1822d6",
   "metadata": {},
   "outputs": [
    {
     "data": {
      "text/plain": [
       "<11546x3223 sparse matrix of type '<class 'numpy.int64'>'\n",
       "\twith 90567 stored elements in Compressed Sparse Row format>"
      ]
     },
     "execution_count": 15,
     "metadata": {},
     "output_type": "execute_result"
    }
   ],
   "source": [
    "\n",
    "vectorizer_countvec = CountVectorizer(ngram_range = (1, 3), stop_words='english',min_df = 5)\n",
    "vectorizer_countvec.fit(X_train)\n",
    "Xtrain_countvec = vectorizer_countvec.transform(X_train)\n",
    "\n",
    "Xtrain_countvec\n"
   ]
  },
  {
   "cell_type": "markdown",
   "id": "f0385aeb",
   "metadata": {},
   "source": [
    "#### TfidfVectorize Text<a id='TfidfVectorize_Text'></a>"
   ]
  },
  {
   "cell_type": "code",
   "execution_count": 16,
   "id": "83f64748",
   "metadata": {},
   "outputs": [
    {
     "data": {
      "text/plain": [
       "<11546x1894 sparse matrix of type '<class 'numpy.float64'>'\n",
       "\twith 74692 stored elements in Compressed Sparse Row format>"
      ]
     },
     "execution_count": 16,
     "metadata": {},
     "output_type": "execute_result"
    }
   ],
   "source": [
    "#TF-IDF enables us to gives us a way to associate each word in a document with a number that represents how relevant each word is in that document. \n",
    "\n",
    "vectorizer_tfidf = TfidfVectorizer(stop_words='english', min_df=5)\n",
    "vectorizer_tfidf.fit(X_train)\n",
    "Xtrain_tfidf= vectorizer_tfidf.transform(X_train)\n",
    "#Xtrain_tfidf_df = pd.DataFrame(Xtrain_tfidf.todense(), columns = vectorizer.get_feature_names())\n",
    "\n",
    "Xtrain_tfidf\n"
   ]
  },
  {
   "cell_type": "markdown",
   "id": "dbca0594",
   "metadata": {},
   "source": [
    "#### Create ytrain<a id='Create_ytrain'></a>"
   ]
  },
  {
   "cell_type": "code",
   "execution_count": 17,
   "id": "0ab767be",
   "metadata": {},
   "outputs": [
    {
     "data": {
      "text/html": [
       "<div>\n",
       "<style scoped>\n",
       "    .dataframe tbody tr th:only-of-type {\n",
       "        vertical-align: middle;\n",
       "    }\n",
       "\n",
       "    .dataframe tbody tr th {\n",
       "        vertical-align: top;\n",
       "    }\n",
       "\n",
       "    .dataframe thead th {\n",
       "        text-align: right;\n",
       "    }\n",
       "</style>\n",
       "<table border=\"1\" class=\"dataframe\">\n",
       "  <thead>\n",
       "    <tr style=\"text-align: right;\">\n",
       "      <th></th>\n",
       "      <th>index</th>\n",
       "      <th>text</th>\n",
       "    </tr>\n",
       "  </thead>\n",
       "  <tbody>\n",
       "    <tr>\n",
       "      <th>0</th>\n",
       "      <td>7931</td>\n",
       "      <td>appreciate speedy response longer delay inconv...</td>\n",
       "    </tr>\n",
       "    <tr>\n",
       "      <th>1</th>\n",
       "      <td>715</td>\n",
       "      <td>could update suitcase please online phone trac...</td>\n",
       "    </tr>\n",
       "    <tr>\n",
       "      <th>2</th>\n",
       "      <td>14033</td>\n",
       "      <td>approach three hours sit plane grind dfw ameri...</td>\n",
       "    </tr>\n",
       "  </tbody>\n",
       "</table>\n",
       "</div>"
      ],
      "text/plain": [
       "   index                                               text\n",
       "0   7931  appreciate speedy response longer delay inconv...\n",
       "1    715  could update suitcase please online phone trac...\n",
       "2  14033  approach three hours sit plane grind dfw ameri..."
      ]
     },
     "execution_count": 17,
     "metadata": {},
     "output_type": "execute_result"
    }
   ],
   "source": [
    "X_train_df = pd.DataFrame(X_train).reset_index()\n",
    "X_train_df.head(3)"
   ]
  },
  {
   "cell_type": "code",
   "execution_count": 18,
   "id": "9c8d1cb9",
   "metadata": {},
   "outputs": [
    {
     "data": {
      "text/html": [
       "<div>\n",
       "<style scoped>\n",
       "    .dataframe tbody tr th:only-of-type {\n",
       "        vertical-align: middle;\n",
       "    }\n",
       "\n",
       "    .dataframe tbody tr th {\n",
       "        vertical-align: top;\n",
       "    }\n",
       "\n",
       "    .dataframe thead th {\n",
       "        text-align: right;\n",
       "    }\n",
       "</style>\n",
       "<table border=\"1\" class=\"dataframe\">\n",
       "  <thead>\n",
       "    <tr style=\"text-align: right;\">\n",
       "      <th></th>\n",
       "      <th>index</th>\n",
       "      <th>tweet_id</th>\n",
       "      <th>airline_sentiment</th>\n",
       "      <th>airline_sentiment_confidence</th>\n",
       "      <th>negativereason</th>\n",
       "      <th>negativereason_confidence</th>\n",
       "      <th>airline</th>\n",
       "      <th>name</th>\n",
       "      <th>retweet_count</th>\n",
       "      <th>text</th>\n",
       "      <th>tweet_location</th>\n",
       "      <th>user_timezone</th>\n",
       "      <th>created_date</th>\n",
       "      <th>created_hour</th>\n",
       "    </tr>\n",
       "  </thead>\n",
       "  <tbody>\n",
       "    <tr>\n",
       "      <th>0</th>\n",
       "      <td>7931</td>\n",
       "      <td>568965774649520128</td>\n",
       "      <td>negative</td>\n",
       "      <td>0.3477</td>\n",
       "      <td>Late Flight</td>\n",
       "      <td>0.3477</td>\n",
       "      <td>JetBlue</td>\n",
       "      <td>ThatJasonEaton</td>\n",
       "      <td>0</td>\n",
       "      <td>@JetBlue I appreciate the speedy response. But...</td>\n",
       "      <td>NaN</td>\n",
       "      <td>NaN</td>\n",
       "      <td>2015-02-20</td>\n",
       "      <td>18</td>\n",
       "    </tr>\n",
       "    <tr>\n",
       "      <th>1</th>\n",
       "      <td>715</td>\n",
       "      <td>570143097809707008</td>\n",
       "      <td>negative</td>\n",
       "      <td>1.0000</td>\n",
       "      <td>Lost Luggage</td>\n",
       "      <td>1.0000</td>\n",
       "      <td>United</td>\n",
       "      <td>8629Fissile</td>\n",
       "      <td>0</td>\n",
       "      <td>@united Could you update me on the suitcase pl...</td>\n",
       "      <td>NaN</td>\n",
       "      <td>London</td>\n",
       "      <td>2015-02-24</td>\n",
       "      <td>0</td>\n",
       "    </tr>\n",
       "    <tr>\n",
       "      <th>2</th>\n",
       "      <td>14033</td>\n",
       "      <td>569675608969465856</td>\n",
       "      <td>negative</td>\n",
       "      <td>1.0000</td>\n",
       "      <td>Late Flight</td>\n",
       "      <td>0.6526</td>\n",
       "      <td>American</td>\n",
       "      <td>drguzman</td>\n",
       "      <td>0</td>\n",
       "      <td>@AmericanAir approaching three hours sitting i...</td>\n",
       "      <td>SpringfieldIllinois</td>\n",
       "      <td>Central Time (US &amp; Canada)</td>\n",
       "      <td>2015-02-22</td>\n",
       "      <td>17</td>\n",
       "    </tr>\n",
       "  </tbody>\n",
       "</table>\n",
       "</div>"
      ],
      "text/plain": [
       "   index            tweet_id airline_sentiment  airline_sentiment_confidence  \\\n",
       "0   7931  568965774649520128          negative                        0.3477   \n",
       "1    715  570143097809707008          negative                        1.0000   \n",
       "2  14033  569675608969465856          negative                        1.0000   \n",
       "\n",
       "  negativereason  negativereason_confidence   airline            name  \\\n",
       "0    Late Flight                     0.3477   JetBlue  ThatJasonEaton   \n",
       "1   Lost Luggage                     1.0000    United     8629Fissile   \n",
       "2    Late Flight                     0.6526  American        drguzman   \n",
       "\n",
       "   retweet_count                                               text  \\\n",
       "0              0  @JetBlue I appreciate the speedy response. But...   \n",
       "1              0  @united Could you update me on the suitcase pl...   \n",
       "2              0  @AmericanAir approaching three hours sitting i...   \n",
       "\n",
       "        tweet_location               user_timezone created_date  created_hour  \n",
       "0                  NaN                         NaN   2015-02-20            18  \n",
       "1                  NaN                      London   2015-02-24             0  \n",
       "2  SpringfieldIllinois  Central Time (US & Canada)   2015-02-22            17  "
      ]
     },
     "execution_count": 18,
     "metadata": {},
     "output_type": "execute_result"
    }
   ],
   "source": [
    "train_resetindex = train.reset_index()\n",
    "train_resetindex.head(3)"
   ]
  },
  {
   "cell_type": "code",
   "execution_count": 19,
   "id": "58d61f50",
   "metadata": {},
   "outputs": [
    {
     "data": {
      "text/html": [
       "<div>\n",
       "<style scoped>\n",
       "    .dataframe tbody tr th:only-of-type {\n",
       "        vertical-align: middle;\n",
       "    }\n",
       "\n",
       "    .dataframe tbody tr th {\n",
       "        vertical-align: top;\n",
       "    }\n",
       "\n",
       "    .dataframe thead th {\n",
       "        text-align: right;\n",
       "    }\n",
       "</style>\n",
       "<table border=\"1\" class=\"dataframe\">\n",
       "  <thead>\n",
       "    <tr style=\"text-align: right;\">\n",
       "      <th></th>\n",
       "      <th>index</th>\n",
       "      <th>tweet_id</th>\n",
       "      <th>airline_sentiment</th>\n",
       "      <th>airline_sentiment_confidence</th>\n",
       "      <th>negativereason</th>\n",
       "      <th>negativereason_confidence</th>\n",
       "      <th>airline</th>\n",
       "      <th>name</th>\n",
       "      <th>retweet_count</th>\n",
       "      <th>text_x</th>\n",
       "      <th>tweet_location</th>\n",
       "      <th>user_timezone</th>\n",
       "      <th>created_date</th>\n",
       "      <th>created_hour</th>\n",
       "      <th>text_y</th>\n",
       "    </tr>\n",
       "  </thead>\n",
       "  <tbody>\n",
       "    <tr>\n",
       "      <th>0</th>\n",
       "      <td>7931</td>\n",
       "      <td>568965774649520128</td>\n",
       "      <td>negative</td>\n",
       "      <td>0.3477</td>\n",
       "      <td>Late Flight</td>\n",
       "      <td>0.3477</td>\n",
       "      <td>JetBlue</td>\n",
       "      <td>ThatJasonEaton</td>\n",
       "      <td>0</td>\n",
       "      <td>@JetBlue I appreciate the speedy response. But...</td>\n",
       "      <td>NaN</td>\n",
       "      <td>NaN</td>\n",
       "      <td>2015-02-20</td>\n",
       "      <td>18</td>\n",
       "      <td>appreciate speedy response longer delay inconv...</td>\n",
       "    </tr>\n",
       "    <tr>\n",
       "      <th>1</th>\n",
       "      <td>715</td>\n",
       "      <td>570143097809707008</td>\n",
       "      <td>negative</td>\n",
       "      <td>1.0000</td>\n",
       "      <td>Lost Luggage</td>\n",
       "      <td>1.0000</td>\n",
       "      <td>United</td>\n",
       "      <td>8629Fissile</td>\n",
       "      <td>0</td>\n",
       "      <td>@united Could you update me on the suitcase pl...</td>\n",
       "      <td>NaN</td>\n",
       "      <td>London</td>\n",
       "      <td>2015-02-24</td>\n",
       "      <td>0</td>\n",
       "      <td>could update suitcase please online phone trac...</td>\n",
       "    </tr>\n",
       "    <tr>\n",
       "      <th>2</th>\n",
       "      <td>14033</td>\n",
       "      <td>569675608969465856</td>\n",
       "      <td>negative</td>\n",
       "      <td>1.0000</td>\n",
       "      <td>Late Flight</td>\n",
       "      <td>0.6526</td>\n",
       "      <td>American</td>\n",
       "      <td>drguzman</td>\n",
       "      <td>0</td>\n",
       "      <td>@AmericanAir approaching three hours sitting i...</td>\n",
       "      <td>SpringfieldIllinois</td>\n",
       "      <td>Central Time (US &amp; Canada)</td>\n",
       "      <td>2015-02-22</td>\n",
       "      <td>17</td>\n",
       "      <td>approach three hours sit plane grind dfw ameri...</td>\n",
       "    </tr>\n",
       "  </tbody>\n",
       "</table>\n",
       "</div>"
      ],
      "text/plain": [
       "   index            tweet_id airline_sentiment  airline_sentiment_confidence  \\\n",
       "0   7931  568965774649520128          negative                        0.3477   \n",
       "1    715  570143097809707008          negative                        1.0000   \n",
       "2  14033  569675608969465856          negative                        1.0000   \n",
       "\n",
       "  negativereason  negativereason_confidence   airline            name  \\\n",
       "0    Late Flight                     0.3477   JetBlue  ThatJasonEaton   \n",
       "1   Lost Luggage                     1.0000    United     8629Fissile   \n",
       "2    Late Flight                     0.6526  American        drguzman   \n",
       "\n",
       "   retweet_count                                             text_x  \\\n",
       "0              0  @JetBlue I appreciate the speedy response. But...   \n",
       "1              0  @united Could you update me on the suitcase pl...   \n",
       "2              0  @AmericanAir approaching three hours sitting i...   \n",
       "\n",
       "        tweet_location               user_timezone created_date  created_hour  \\\n",
       "0                  NaN                         NaN   2015-02-20            18   \n",
       "1                  NaN                      London   2015-02-24             0   \n",
       "2  SpringfieldIllinois  Central Time (US & Canada)   2015-02-22            17   \n",
       "\n",
       "                                              text_y  \n",
       "0  appreciate speedy response longer delay inconv...  \n",
       "1  could update suitcase please online phone trac...  \n",
       "2  approach three hours sit plane grind dfw ameri...  "
      ]
     },
     "execution_count": 19,
     "metadata": {},
     "output_type": "execute_result"
    }
   ],
   "source": [
    "# A new dataframe that match the length of the preprocessed text\n",
    "train_eng = pd.merge(train_resetindex, X_train_df, how = 'right', on =['index'])\n",
    "train_eng.head(3)"
   ]
  },
  {
   "cell_type": "code",
   "execution_count": 20,
   "id": "422d3724",
   "metadata": {},
   "outputs": [
    {
     "data": {
      "text/plain": [
       "0        negative\n",
       "1        negative\n",
       "2        negative\n",
       "3        negative\n",
       "4        negative\n",
       "           ...   \n",
       "11541    negative\n",
       "11542    negative\n",
       "11543    negative\n",
       "11544    negative\n",
       "11545     neutral\n",
       "Name: airline_sentiment, Length: 11546, dtype: object"
      ]
     },
     "execution_count": 20,
     "metadata": {},
     "output_type": "execute_result"
    }
   ],
   "source": [
    "ytrain= train_eng.airline_sentiment\n",
    "ytrain"
   ]
  },
  {
   "cell_type": "markdown",
   "id": "e796b989",
   "metadata": {},
   "source": [
    "### Multinomial Naive Bayes Model<a id='Multinomial_Naive_Bayes_Model'></a>\n",
    "\n"
   ]
  },
  {
   "cell_type": "markdown",
   "id": "31d720df",
   "metadata": {},
   "source": [
    "Multinomial Naive Bayes and Logistic regression models are tried with count vectorization and Tfidf vectorization. GridSearchCV was used to find the best parameters and the accuracy score. "
   ]
  },
  {
   "cell_type": "markdown",
   "id": "9bce8673",
   "metadata": {},
   "source": [
    "#### With Count Vectorization<a id='With_Count_Vectorization'></a>"
   ]
  },
  {
   "cell_type": "code",
   "execution_count": 21,
   "id": "85aa890e",
   "metadata": {},
   "outputs": [
    {
     "data": {
      "text/plain": [
       "GridSearchCV(cv=3, estimator=MultinomialNB(), n_jobs=-1,\n",
       "             param_grid={'alpha': [0.1, 1, 5, 10, 50]})"
      ]
     },
     "execution_count": 21,
     "metadata": {},
     "output_type": "execute_result"
    }
   ],
   "source": [
    "#Use GridSearch to find the best accuracy score\n",
    "param_grid = {\"alpha\": [0.1, 1, 5, 10, 50]}\n",
    "model_countvec =MultinomialNB() \n",
    "#model_countvec.get_params().keys()\n",
    "grid_search = GridSearchCV(model_countvec, param_grid, cv=3, n_jobs=-1)\n",
    "grid_search.fit(Xtrain_countvec, ytrain)"
   ]
  },
  {
   "cell_type": "code",
   "execution_count": 22,
   "id": "a8812033",
   "metadata": {},
   "outputs": [
    {
     "name": "stdout",
     "output_type": "stream",
     "text": [
      "{'alpha': 1} 0.7458855672027923\n"
     ]
    }
   ],
   "source": [
    "print(grid_search.best_params_, grid_search.best_score_)"
   ]
  },
  {
   "cell_type": "code",
   "execution_count": 23,
   "id": "4f9dd5dd",
   "metadata": {},
   "outputs": [
    {
     "data": {
      "text/plain": [
       "0.8038281655984757"
      ]
     },
     "execution_count": 23,
     "metadata": {},
     "output_type": "execute_result"
    }
   ],
   "source": [
    "grid_search.score(Xtrain_countvec, ytrain)"
   ]
  },
  {
   "cell_type": "markdown",
   "id": "64705984",
   "metadata": {},
   "source": [
    "#### With TFIDF Vectorization<a id='With_TFIDF_Vectorization'></a>"
   ]
  },
  {
   "cell_type": "code",
   "execution_count": 24,
   "id": "25f6be57",
   "metadata": {},
   "outputs": [
    {
     "data": {
      "text/plain": [
       "GridSearchCV(cv=3, estimator=MultinomialNB(), n_jobs=-1,\n",
       "             param_grid={'alpha': [0.1, 1, 5, 10, 50]})"
      ]
     },
     "execution_count": 24,
     "metadata": {},
     "output_type": "execute_result"
    }
   ],
   "source": [
    "#Use GridSearch to find the best accuracy score\n",
    "model_tfidf =MultinomialNB() \n",
    "grid_search_tfidf = GridSearchCV(model_tfidf, param_grid, cv=3, n_jobs=-1)\n",
    "grid_search_tfidf.fit(Xtrain_tfidf, ytrain)"
   ]
  },
  {
   "cell_type": "code",
   "execution_count": 25,
   "id": "1e3625c0",
   "metadata": {},
   "outputs": [
    {
     "name": "stdout",
     "output_type": "stream",
     "text": [
      "{'alpha': 0.1} 0.7383509626299961\n"
     ]
    }
   ],
   "source": [
    "print(grid_search_tfidf.best_params_, grid_search_tfidf.best_score_)"
   ]
  },
  {
   "cell_type": "code",
   "execution_count": 26,
   "id": "db5b35a6",
   "metadata": {},
   "outputs": [
    {
     "data": {
      "text/plain": [
       "0.793694786073099"
      ]
     },
     "execution_count": 26,
     "metadata": {},
     "output_type": "execute_result"
    }
   ],
   "source": [
    "grid_search_tfidf.score(Xtrain_tfidf, ytrain)"
   ]
  },
  {
   "cell_type": "markdown",
   "id": "1a0d5c7c",
   "metadata": {},
   "source": [
    "The Multinomial Naive Bayes model has the highest score of 0.803 with count vectorization."
   ]
  },
  {
   "cell_type": "markdown",
   "id": "9db24cc1",
   "metadata": {},
   "source": [
    "### Logistic Regression Model<a id='Logistic_Regression_Model'></a>"
   ]
  },
  {
   "cell_type": "markdown",
   "id": "c935af91",
   "metadata": {},
   "source": [
    "#### With Count Vectorization<a id='With_Count_Vectorization_LR'></a>"
   ]
  },
  {
   "cell_type": "code",
   "execution_count": 27,
   "id": "e7f607b0",
   "metadata": {},
   "outputs": [
    {
     "data": {
      "text/plain": [
       "GridSearchCV(cv=5, estimator=LogisticRegression(),\n",
       "             param_grid={'C': [0.01, 0.1, 1, 10],\n",
       "                         'solver': ['newton-cg', 'lbfgs', 'liblinear']},\n",
       "             scoring='accuracy')"
      ]
     },
     "execution_count": 27,
     "metadata": {},
     "output_type": "execute_result"
    }
   ],
   "source": [
    "from sklearn.linear_model import LogisticRegression\n",
    "#Use GridSearch to find the best accuracy score\n",
    "\n",
    "logreg = LogisticRegression()\n",
    "space = dict()\n",
    "space['solver'] = ['newton-cg', 'lbfgs', 'liblinear']\n",
    "#space['penalty'] = ['none', 'l1', 'l2', 'elasticnet']\n",
    "space['C'] = [0.01, .1, 1, 10]\n",
    "logreg_gs = GridSearchCV(logreg, space, cv=5, scoring='accuracy')\n",
    "logreg_gs.fit(Xtrain_countvec, ytrain)\n",
    "\n"
   ]
  },
  {
   "cell_type": "code",
   "execution_count": 28,
   "id": "d2b03d2a",
   "metadata": {},
   "outputs": [
    {
     "name": "stdout",
     "output_type": "stream",
     "text": [
      "{'C': 1, 'solver': 'liblinear'} 0.7698766168146852\n"
     ]
    }
   ],
   "source": [
    "print(logreg_gs.best_params_, logreg_gs.best_score_)"
   ]
  },
  {
   "cell_type": "code",
   "execution_count": 29,
   "id": "554318e3",
   "metadata": {},
   "outputs": [
    {
     "data": {
      "text/plain": [
       "0.8632426814481206"
      ]
     },
     "execution_count": 29,
     "metadata": {},
     "output_type": "execute_result"
    }
   ],
   "source": [
    "logreg_gs.score(Xtrain_countvec, ytrain)"
   ]
  },
  {
   "cell_type": "markdown",
   "id": "868f35f2",
   "metadata": {},
   "source": [
    "#### With TFIDF Vectorization<a id='With_TFIDF_Vectorization_LR'></a>"
   ]
  },
  {
   "cell_type": "code",
   "execution_count": 30,
   "id": "214382e1",
   "metadata": {},
   "outputs": [
    {
     "data": {
      "text/plain": [
       "GridSearchCV(cv=5, estimator=LogisticRegression(),\n",
       "             param_grid={'C': [0.01, 0.1, 1, 10],\n",
       "                         'solver': ['newton-cg', 'lbfgs', 'liblinear']},\n",
       "             scoring='accuracy')"
      ]
     },
     "execution_count": 30,
     "metadata": {},
     "output_type": "execute_result"
    }
   ],
   "source": [
    "#Use GridSearch to find the best accuracy score\n",
    "\n",
    "logreg_tfidf = LogisticRegression()\n",
    "logreg_gs_tfidf= GridSearchCV(logreg_tfidf, space, cv=5, scoring='accuracy')\n",
    "logreg_gs_tfidf.fit(Xtrain_tfidf, ytrain)\n",
    "\n"
   ]
  },
  {
   "cell_type": "code",
   "execution_count": 31,
   "id": "e312b8c7",
   "metadata": {},
   "outputs": [
    {
     "name": "stdout",
     "output_type": "stream",
     "text": [
      "{'C': 1, 'solver': 'newton-cg'} 0.7666725536625926\n"
     ]
    }
   ],
   "source": [
    "print(logreg_gs_tfidf.best_params_, logreg_gs_tfidf.best_score_)"
   ]
  },
  {
   "cell_type": "code",
   "execution_count": 32,
   "id": "c83e45c1",
   "metadata": {},
   "outputs": [
    {
     "data": {
      "text/plain": [
       "0.8327559327905768"
      ]
     },
     "execution_count": 32,
     "metadata": {},
     "output_type": "execute_result"
    }
   ],
   "source": [
    "logreg_gs_tfidf.score(Xtrain_tfidf, ytrain)"
   ]
  },
  {
   "cell_type": "markdown",
   "id": "4c7a625b",
   "metadata": {},
   "source": [
    "The logistic regression model showed a consistently better score with both count and Tfidf vectorization than the Multinomial Naive Bayes model. The logistic regression model with count vectorization on the training set has the highest accuracy score of 0.86."
   ]
  },
  {
   "cell_type": "markdown",
   "id": "8bacc13a",
   "metadata": {},
   "source": [
    "#### Predicted Error<a id='Predicted_Error'></a>"
   ]
  },
  {
   "cell_type": "code",
   "execution_count": 36,
   "id": "adacd7c9",
   "metadata": {},
   "outputs": [
    {
     "data": {
      "text/html": [
       "<div>\n",
       "<style scoped>\n",
       "    .dataframe tbody tr th:only-of-type {\n",
       "        vertical-align: middle;\n",
       "    }\n",
       "\n",
       "    .dataframe tbody tr th {\n",
       "        vertical-align: top;\n",
       "    }\n",
       "\n",
       "    .dataframe thead th {\n",
       "        text-align: right;\n",
       "    }\n",
       "</style>\n",
       "<table border=\"1\" class=\"dataframe\">\n",
       "  <thead>\n",
       "    <tr style=\"text-align: right;\">\n",
       "      <th></th>\n",
       "      <th>index</th>\n",
       "      <th>tweet_id</th>\n",
       "      <th>airline_sentiment</th>\n",
       "      <th>airline_sentiment_confidence</th>\n",
       "      <th>negativereason</th>\n",
       "      <th>negativereason_confidence</th>\n",
       "      <th>airline</th>\n",
       "      <th>name</th>\n",
       "      <th>retweet_count</th>\n",
       "      <th>text_x</th>\n",
       "      <th>tweet_location</th>\n",
       "      <th>user_timezone</th>\n",
       "      <th>created_date</th>\n",
       "      <th>created_hour</th>\n",
       "      <th>text_y</th>\n",
       "      <th>predict</th>\n",
       "    </tr>\n",
       "  </thead>\n",
       "  <tbody>\n",
       "    <tr>\n",
       "      <th>0</th>\n",
       "      <td>7931</td>\n",
       "      <td>568965774649520128</td>\n",
       "      <td>negative</td>\n",
       "      <td>0.3477</td>\n",
       "      <td>Late Flight</td>\n",
       "      <td>0.3477</td>\n",
       "      <td>JetBlue</td>\n",
       "      <td>ThatJasonEaton</td>\n",
       "      <td>0</td>\n",
       "      <td>@JetBlue I appreciate the speedy response. But...</td>\n",
       "      <td>NaN</td>\n",
       "      <td>NaN</td>\n",
       "      <td>2015-02-20</td>\n",
       "      <td>18</td>\n",
       "      <td>appreciate speedy response longer delay inconv...</td>\n",
       "      <td>negative</td>\n",
       "    </tr>\n",
       "    <tr>\n",
       "      <th>1</th>\n",
       "      <td>715</td>\n",
       "      <td>570143097809707008</td>\n",
       "      <td>negative</td>\n",
       "      <td>1.0000</td>\n",
       "      <td>Lost Luggage</td>\n",
       "      <td>1.0000</td>\n",
       "      <td>United</td>\n",
       "      <td>8629Fissile</td>\n",
       "      <td>0</td>\n",
       "      <td>@united Could you update me on the suitcase pl...</td>\n",
       "      <td>NaN</td>\n",
       "      <td>London</td>\n",
       "      <td>2015-02-24</td>\n",
       "      <td>0</td>\n",
       "      <td>could update suitcase please online phone trac...</td>\n",
       "      <td>negative</td>\n",
       "    </tr>\n",
       "    <tr>\n",
       "      <th>2</th>\n",
       "      <td>14033</td>\n",
       "      <td>569675608969465856</td>\n",
       "      <td>negative</td>\n",
       "      <td>1.0000</td>\n",
       "      <td>Late Flight</td>\n",
       "      <td>0.6526</td>\n",
       "      <td>American</td>\n",
       "      <td>drguzman</td>\n",
       "      <td>0</td>\n",
       "      <td>@AmericanAir approaching three hours sitting i...</td>\n",
       "      <td>SpringfieldIllinois</td>\n",
       "      <td>Central Time (US &amp; Canada)</td>\n",
       "      <td>2015-02-22</td>\n",
       "      <td>17</td>\n",
       "      <td>approach three hours sit plane grind dfw ameri...</td>\n",
       "      <td>negative</td>\n",
       "    </tr>\n",
       "  </tbody>\n",
       "</table>\n",
       "</div>"
      ],
      "text/plain": [
       "   index            tweet_id airline_sentiment  airline_sentiment_confidence  \\\n",
       "0   7931  568965774649520128          negative                        0.3477   \n",
       "1    715  570143097809707008          negative                        1.0000   \n",
       "2  14033  569675608969465856          negative                        1.0000   \n",
       "\n",
       "  negativereason  negativereason_confidence   airline            name  \\\n",
       "0    Late Flight                     0.3477   JetBlue  ThatJasonEaton   \n",
       "1   Lost Luggage                     1.0000    United     8629Fissile   \n",
       "2    Late Flight                     0.6526  American        drguzman   \n",
       "\n",
       "   retweet_count                                             text_x  \\\n",
       "0              0  @JetBlue I appreciate the speedy response. But...   \n",
       "1              0  @united Could you update me on the suitcase pl...   \n",
       "2              0  @AmericanAir approaching three hours sitting i...   \n",
       "\n",
       "        tweet_location               user_timezone created_date  created_hour  \\\n",
       "0                  NaN                         NaN   2015-02-20            18   \n",
       "1                  NaN                      London   2015-02-24             0   \n",
       "2  SpringfieldIllinois  Central Time (US & Canada)   2015-02-22            17   \n",
       "\n",
       "                                              text_y   predict  \n",
       "0  appreciate speedy response longer delay inconv...  negative  \n",
       "1  could update suitcase please online phone trac...  negative  \n",
       "2  approach three hours sit plane grind dfw ameri...  negative  "
      ]
     },
     "execution_count": 36,
     "metadata": {},
     "output_type": "execute_result"
    }
   ],
   "source": [
    "#Add a column of predicted result\n",
    "train_eng['predict'] = logreg_gs.best_estimator_.predict(Xtrain_countvec)\n",
    "train_eng.head(3)"
   ]
  },
  {
   "cell_type": "code",
   "execution_count": 37,
   "id": "56b38b5a",
   "metadata": {},
   "outputs": [
    {
     "data": {
      "text/html": [
       "<div>\n",
       "<style scoped>\n",
       "    .dataframe tbody tr th:only-of-type {\n",
       "        vertical-align: middle;\n",
       "    }\n",
       "\n",
       "    .dataframe tbody tr th {\n",
       "        vertical-align: top;\n",
       "    }\n",
       "\n",
       "    .dataframe thead th {\n",
       "        text-align: right;\n",
       "    }\n",
       "</style>\n",
       "<table border=\"1\" class=\"dataframe\">\n",
       "  <thead>\n",
       "    <tr style=\"text-align: right;\">\n",
       "      <th></th>\n",
       "      <th>airline_sentiment</th>\n",
       "      <th>predict</th>\n",
       "      <th>original_text</th>\n",
       "    </tr>\n",
       "  </thead>\n",
       "  <tbody>\n",
       "    <tr>\n",
       "      <th>5</th>\n",
       "      <td>negative</td>\n",
       "      <td>positive</td>\n",
       "      <td>@united thnx for quick reply but don't think y...</td>\n",
       "    </tr>\n",
       "    <tr>\n",
       "      <th>17</th>\n",
       "      <td>neutral</td>\n",
       "      <td>negative</td>\n",
       "      <td>@united refund?</td>\n",
       "    </tr>\n",
       "    <tr>\n",
       "      <th>19</th>\n",
       "      <td>positive</td>\n",
       "      <td>negative</td>\n",
       "      <td>@USAirways  glad to be home and that your grea...</td>\n",
       "    </tr>\n",
       "  </tbody>\n",
       "</table>\n",
       "</div>"
      ],
      "text/plain": [
       "   airline_sentiment   predict  \\\n",
       "5           negative  positive   \n",
       "17           neutral  negative   \n",
       "19          positive  negative   \n",
       "\n",
       "                                        original_text  \n",
       "5   @united thnx for quick reply but don't think y...  \n",
       "17                                    @united refund?  \n",
       "19  @USAirways  glad to be home and that your grea...  "
      ]
     },
     "execution_count": 37,
     "metadata": {},
     "output_type": "execute_result"
    }
   ],
   "source": [
    "#Select columns\n",
    "prediction_error = train_eng.loc[train_eng.airline_sentiment != train_eng.predict]\n",
    "\n",
    "\n",
    "prediction_error_clean = prediction_error[['airline_sentiment', 'predict', 'text_x']]\n",
    "prediction_error_clean=prediction_error_clean.rename(columns = {'text_x':'original_text'})\n",
    "prediction_error_clean.head(3)"
   ]
  },
  {
   "cell_type": "markdown",
   "id": "88c660cb",
   "metadata": {},
   "source": [
    " ### Test Data<a id='Test_Data'></a>\n",
    " ***"
   ]
  },
  {
   "cell_type": "code",
   "execution_count": 39,
   "id": "2289ad12",
   "metadata": {},
   "outputs": [
    {
     "data": {
      "text/plain": [
       "6046                                        aww thank love\n",
       "10963    im finalstretch chairman execplat mileagerun k...\n",
       "758      fly unite aus austin bergstrom cancun intl bes...\n",
       "12064                                                thank\n",
       "12923    still cant get change flight really important ...\n",
       "                               ...                        \n",
       "10218    sad experience today family southwest direct m...\n",
       "12328    ill stick future no change fee first bag free ...\n",
       "8049     thank jetblue not jetgreen jetred blue favorit...\n",
       "5627             thank help shannon great customer service\n",
       "8161     yes best case scenario get gear late flight fr...\n",
       "Name: text, Length: 2897, dtype: object"
      ]
     },
     "execution_count": 39,
     "metadata": {},
     "output_type": "execute_result"
    }
   ],
   "source": [
    "X_test=TextPreprocessing(test).preprocess()\n",
    "X_test"
   ]
  },
  {
   "cell_type": "code",
   "execution_count": 40,
   "id": "c654db85",
   "metadata": {},
   "outputs": [
    {
     "data": {
      "text/plain": [
       "<2897x3223 sparse matrix of type '<class 'numpy.int64'>'\n",
       "\twith 22536 stored elements in Compressed Sparse Row format>"
      ]
     },
     "execution_count": 40,
     "metadata": {},
     "output_type": "execute_result"
    }
   ],
   "source": [
    "Xtest_countvec = vectorizer_countvec.transform(X_test)\n",
    "Xtest_countvec"
   ]
  },
  {
   "cell_type": "code",
   "execution_count": 41,
   "id": "a914d5ba",
   "metadata": {},
   "outputs": [
    {
     "data": {
      "text/plain": [
       "(2897, 15)"
      ]
     },
     "execution_count": 41,
     "metadata": {},
     "output_type": "execute_result"
    }
   ],
   "source": [
    "X_test_df = pd.DataFrame(X_test).reset_index()\n",
    "\n",
    "test_resetindex = test.reset_index()\n",
    "test_eng = pd.merge(test_resetindex, X_test_df, how = 'right', on =['index'])\n",
    "test_eng.shape"
   ]
  },
  {
   "cell_type": "code",
   "execution_count": 42,
   "id": "3292f34b",
   "metadata": {},
   "outputs": [
    {
     "data": {
      "text/plain": [
       "0       positive\n",
       "1        neutral\n",
       "2       positive\n",
       "3       positive\n",
       "4       negative\n",
       "          ...   \n",
       "2892    negative\n",
       "2893    negative\n",
       "2894    positive\n",
       "2895    positive\n",
       "2896    negative\n",
       "Name: airline_sentiment, Length: 2897, dtype: object"
      ]
     },
     "execution_count": 42,
     "metadata": {},
     "output_type": "execute_result"
    }
   ],
   "source": [
    "ytest= test_eng.airline_sentiment\n",
    "ytest"
   ]
  },
  {
   "cell_type": "markdown",
   "id": "e28174fb",
   "metadata": {},
   "source": [
    "#### Multinomial Naive Bayes Model<a id='Multinomial_Naive_Bayes_Model_TEST'></a>"
   ]
  },
  {
   "cell_type": "code",
   "execution_count": 43,
   "id": "bef3d35f",
   "metadata": {},
   "outputs": [
    {
     "data": {
      "text/plain": [
       "0.7787366240938902"
      ]
     },
     "execution_count": 43,
     "metadata": {},
     "output_type": "execute_result"
    }
   ],
   "source": [
    "grid_search.score(Xtest_countvec, ytest)"
   ]
  },
  {
   "cell_type": "code",
   "execution_count": 44,
   "id": "03864a86",
   "metadata": {},
   "outputs": [
    {
     "data": {
      "text/plain": [
       "<sklearn.metrics._plot.confusion_matrix.ConfusionMatrixDisplay at 0x7ff5b7004350>"
      ]
     },
     "execution_count": 44,
     "metadata": {},
     "output_type": "execute_result"
    },
    {
     "data": {
      "image/png": "[encoded data removed]",
      "text/plain": [
       "<Figure size 640x480 with 2 Axes>"
      ]
     },
     "metadata": {},
     "output_type": "display_data"
    }
   ],
   "source": [
    "y_pred_test_countvec_nb = grid_search.best_estimator_.predict(Xtest_countvec)\n",
    "cm_test_countvec_nb = confusion_matrix(ytest, y_pred_test_countvec_nb)\n",
    "percent_cm_test_countvec_nb = cm_test_countvec_nb / cm_test_countvec_nb.sum()\n",
    "\n",
    "_, ax = plt.subplots()\n",
    "display_percent_cm_test_countvec_nb = ConfusionMatrixDisplay(confusion_matrix = percent_cm_test_countvec_nb, \n",
    "                                    display_labels = ['negative','neutral','positive'])\n",
    "\n",
    "ax.set_xticklabels(labels = ['negative','neutral','positive'], fontsize = 8)\n",
    "ax.set_yticklabels(labels = ['negative','neutral','positive'], fontsize = 8)\n",
    "display_percent_cm_test_countvec_nb.plot(ax = ax)"
   ]
  },
  {
   "cell_type": "markdown",
   "id": "a4f72fe4",
   "metadata": {},
   "source": [
    "#### Logistic Regression Model<a id='Logistic_Regression_Model_TEST'></a>"
   ]
  },
  {
   "cell_type": "code",
   "execution_count": 45,
   "id": "423cf713",
   "metadata": {},
   "outputs": [
    {
     "data": {
      "text/plain": [
       "0.7977217811529168"
      ]
     },
     "execution_count": 45,
     "metadata": {},
     "output_type": "execute_result"
    }
   ],
   "source": [
    "logreg_gs.score(Xtest_countvec, ytest)"
   ]
  },
  {
   "cell_type": "markdown",
   "id": "96cefe90",
   "metadata": {},
   "source": [
    "When it performs on the test data, the score is 0.798. It shows evidence of overfitting to the data. "
   ]
  },
  {
   "cell_type": "markdown",
   "id": "5e74bdd2",
   "metadata": {},
   "source": [
    "#### Confusion Matrix<a id='Confusion_Matrix'></a>"
   ]
  },
  {
   "cell_type": "code",
   "execution_count": 46,
   "id": "0c065e1f",
   "metadata": {},
   "outputs": [],
   "source": [
    "y_pred_test_countvec = logreg_gs.best_estimator_.predict(Xtest_countvec)\n",
    "#y_pred_test_countvec = model_countvec.predict(Xtest_countvec)\n",
    "\n",
    "#Accuracy_test_countvec = accuracy_score (ytest, y_pred_test_countvec)\n",
    "\n",
    "#print(\"Accuracy on test data Countvec: {:2f}\".format(Accuracy_test_countvec))"
   ]
  },
  {
   "cell_type": "code",
   "execution_count": 47,
   "id": "f0766d0c",
   "metadata": {},
   "outputs": [
    {
     "data": {
      "text/plain": [
       "array([[0.58094581, 0.04142216, 0.01484294],\n",
       "       [0.07835692, 0.10597169, 0.01691405],\n",
       "       [0.03072144, 0.02002071, 0.11080428]])"
      ]
     },
     "execution_count": 47,
     "metadata": {},
     "output_type": "execute_result"
    }
   ],
   "source": [
    "cm_test_countvec = confusion_matrix(ytest, y_pred_test_countvec)\n",
    "percent_cm_test_countvec = cm_test_countvec / cm_test_countvec.sum()\n",
    "\n",
    "percent_cm_test_countvec\n"
   ]
  },
  {
   "cell_type": "code",
   "execution_count": 48,
   "id": "2fb441e6",
   "metadata": {},
   "outputs": [
    {
     "data": {
      "text/plain": [
       "<sklearn.metrics._plot.confusion_matrix.ConfusionMatrixDisplay at 0x7ff5b78f0590>"
      ]
     },
     "execution_count": 48,
     "metadata": {},
     "output_type": "execute_result"
    },
    {
     "data": {
      "image/png": "[encoded data removed]",
      "text/plain": [
       "<Figure size 640x480 with 2 Axes>"
      ]
     },
     "metadata": {},
     "output_type": "display_data"
    }
   ],
   "source": [
    "\n",
    "_, ax = plt.subplots()\n",
    "display_percent_cm_test_countvec = ConfusionMatrixDisplay(confusion_matrix = percent_cm_test_countvec, \n",
    "                                    display_labels = ['negative','neutral','positive'])\n",
    "                                   \n",
    "#ax.set_xticks([0, 1])\n",
    "#ax.set_yticks([0, 1])\n",
    "ax.set_xticklabels(labels = ['negative','neutral','positive'], fontsize = 8)\n",
    "ax.set_yticklabels(labels = ['negative','neutral','positive'], fontsize = 8)\n",
    "display_percent_cm_test_countvec.plot(ax = ax)"
   ]
  },
  {
   "cell_type": "markdown",
   "id": "d172efe7",
   "metadata": {},
   "source": [
    "### Predictive Words<a id='Predictive_Words'></a>"
   ]
  },
  {
   "cell_type": "markdown",
   "id": "6cfcb031",
   "metadata": {},
   "source": [
    "#### Method 1<a id='Method_1'></a>\n",
    "\n",
    "I created a new feature called 'new target,' which comprises the 12 classes with positive and negative sentiments for each airline. Since the positive predictive words are often general positive words such as 'thanx,' 'amaze,' 'cool,' and 'love,' I only listed the negative predictive words here for analysis. Before analyzing, I opted out of the words related to the airline names, airport names, and specific cities so that the words could better reflect the reasons behind the negative sentiments. "
   ]
  },
  {
   "cell_type": "code",
   "execution_count": 464,
   "id": "4e80b7b6",
   "metadata": {},
   "outputs": [
    {
     "data": {
      "text/plain": [
       "Unitednegative            2080\n",
       "US Airwaysnegative        1785\n",
       "Americannegative          1573\n",
       "Southwestnegative          947\n",
       "JetBluenegative            738\n",
       "Unitedneutral              566\n",
       "Southwestneutral           548\n",
       "JetBlueneutral             519\n",
       "Southwestpositive          461\n",
       "Unitedpositive             411\n",
       "JetBluepositive            406\n",
       "Americanneutral            359\n",
       "US Airwaysneutral          302\n",
       "Americanpositive           264\n",
       "US Airwayspositive         202\n",
       "Virgin Americanegative     149\n",
       "Virgin Americaneutral      125\n",
       "Virgin Americapositive     113\n",
       "Name: new_target, dtype: int64"
      ]
     },
     "execution_count": 464,
     "metadata": {},
     "output_type": "execute_result"
    }
   ],
   "source": [
    "train_eng['new_target'] = train_eng['airline'] + train_eng['airline_sentiment']\n",
    "train_eng.new_target.value_counts()"
   ]
  },
  {
   "cell_type": "code",
   "execution_count": 650,
   "id": "21391215",
   "metadata": {},
   "outputs": [],
   "source": [
    "def predictive_words(airline_name, Xdata, ydata):\n",
    "    \n",
    "    print(airline_name)\n",
    "\n",
    "    model = LogisticRegression(C=1, solver='liblinear').fit(Xdata, ydata)\n",
    "    class_list = model.classes_\n",
    "    \n",
    "    ix_negative = np.where(class_list== airline_name + \"negative\")[0]\n",
    "    imatrix = np.eye(Xdata.shape[1])\n",
    "    \n",
    "    probs_neg = model.predict_proba(imatrix)[:, ix_negative]\n",
    "    ind = np.argsort(list(probs_neg.flat))\n",
    "    negative_words_most = words[ind[-20:]][::-1]\n",
    "    negative_prob_most = probs_neg[ind[-20:]][::-1].reshape(-1).tolist()\n",
    "    \n",
    "    df_neg = pd.DataFrame({'negative_words_most':negative_words_most, \n",
    "                      'negative_prob_most': negative_prob_most})#, \n",
    "                     #index =['1','2','3','4','5'])\n",
    "    \n",
    "    ix_positive = np.where(class_list== airline_name +\"positive\")[0]\n",
    "    probs_positive = model.predict_proba(imatrix)[:, ix_positive]\n",
    "    ind_pos = np.argsort(list(probs_positive.flat))\n",
    "    positive_words_most = words[ind_pos[-20:]][::-1]\n",
    "    positive_prob_most = probs_positive[ind_pos[-20:]][::-1].reshape(-1).tolist()\n",
    "    \n",
    "      \n",
    "    df_positive = pd.DataFrame({'positive_words_most':positive_words_most, \n",
    "                      'positive_prob_most': positive_prob_most})#, \n",
    "                     #index =['1','2','3','4','5'])\n",
    "    #Substract positive words from the negative words\n",
    "    overall_df = df_neg.merge(df_positive, right_on='positive_words_most', left_on='negative_words_most', how='left')\n",
    "\n",
    "    print ('')\n",
    "    return overall_df\n"
   ]
  },
  {
   "cell_type": "code",
   "execution_count": 593,
   "id": "20a41c25",
   "metadata": {},
   "outputs": [
    {
     "name": "stdout",
     "output_type": "stream",
     "text": [
      "JetBlue\n",
      "\n"
     ]
    },
    {
     "data": {
      "text/html": [
       "<div>\n",
       "<style scoped>\n",
       "    .dataframe tbody tr th:only-of-type {\n",
       "        vertical-align: middle;\n",
       "    }\n",
       "\n",
       "    .dataframe tbody tr th {\n",
       "        vertical-align: top;\n",
       "    }\n",
       "\n",
       "    .dataframe thead th {\n",
       "        text-align: right;\n",
       "    }\n",
       "</style>\n",
       "<table border=\"1\" class=\"dataframe\">\n",
       "  <thead>\n",
       "    <tr style=\"text-align: right;\">\n",
       "      <th></th>\n",
       "      <th>negative_words_most</th>\n",
       "      <th>negative_prob_most</th>\n",
       "      <th>positive_words_most</th>\n",
       "      <th>positive_prob_most</th>\n",
       "    </tr>\n",
       "  </thead>\n",
       "  <tbody>\n",
       "    <tr>\n",
       "      <th>2</th>\n",
       "      <td>mosaic</td>\n",
       "      <td>0.228301</td>\n",
       "      <td>NaN</td>\n",
       "      <td>NaN</td>\n",
       "    </tr>\n",
       "    <tr>\n",
       "      <th>4</th>\n",
       "      <td>fraud</td>\n",
       "      <td>0.217709</td>\n",
       "      <td>NaN</td>\n",
       "      <td>NaN</td>\n",
       "    </tr>\n",
       "    <tr>\n",
       "      <th>6</th>\n",
       "      <td>coffee</td>\n",
       "      <td>0.204671</td>\n",
       "      <td>NaN</td>\n",
       "      <td>NaN</td>\n",
       "    </tr>\n",
       "    <tr>\n",
       "      <th>7</th>\n",
       "      <td>safety</td>\n",
       "      <td>0.201502</td>\n",
       "      <td>NaN</td>\n",
       "      <td>NaN</td>\n",
       "    </tr>\n",
       "    <tr>\n",
       "      <th>8</th>\n",
       "      <td>tv</td>\n",
       "      <td>0.192309</td>\n",
       "      <td>NaN</td>\n",
       "      <td>NaN</td>\n",
       "    </tr>\n",
       "  </tbody>\n",
       "</table>\n",
       "</div>"
      ],
      "text/plain": [
       "  negative_words_most  negative_prob_most positive_words_most  \\\n",
       "2              mosaic            0.228301                 NaN   \n",
       "4               fraud            0.217709                 NaN   \n",
       "6              coffee            0.204671                 NaN   \n",
       "7              safety            0.201502                 NaN   \n",
       "8                  tv            0.192309                 NaN   \n",
       "\n",
       "   positive_prob_most  \n",
       "2                 NaN  \n",
       "4                 NaN  \n",
       "6                 NaN  \n",
       "7                 NaN  \n",
       "8                 NaN  "
      ]
     },
     "execution_count": 593,
     "metadata": {},
     "output_type": "execute_result"
    }
   ],
   "source": [
    "JetBlue_predictive= predictive_words('JetBlue', Xdata=Xtrain_countvec, ydata=train_eng['new_target'])\n",
    "\n",
    "JetBlue_predictive.iloc[[2,4,6,7,8]]\n"
   ]
  },
  {
   "cell_type": "code",
   "execution_count": 60,
   "id": "449cb831",
   "metadata": {},
   "outputs": [
    {
     "data": {
      "image/png": "[encoded data removed]",
      "text/plain": [
       "<Figure size 640x480 with 1 Axes>"
      ]
     },
     "metadata": {},
     "output_type": "display_data"
    }
   ],
   "source": [
    "data = {'score':[0.192, 0.201, 0.204, 0.217, 0.228]}\n",
    "negative_words = pd.DataFrame(data, index = ['tv', 'safety', 'coffee', 'fraud','mosiac'])\n",
    "ax=negative_words.plot(kind='barh')  \n",
    "ax.get_legend().remove()\n",
    "plt.title('Negative Predictive Words for JetBlue')\n",
    "plt.xlabel('Probability')\n",
    "plt.show()"
   ]
  },
  {
   "cell_type": "code",
   "execution_count": 652,
   "id": "dbc9d162",
   "metadata": {},
   "outputs": [
    {
     "name": "stdout",
     "output_type": "stream",
     "text": [
      "United\n",
      "\n"
     ]
    },
    {
     "data": {
      "text/html": [
       "<div>\n",
       "<style scoped>\n",
       "    .dataframe tbody tr th:only-of-type {\n",
       "        vertical-align: middle;\n",
       "    }\n",
       "\n",
       "    .dataframe tbody tr th {\n",
       "        vertical-align: top;\n",
       "    }\n",
       "\n",
       "    .dataframe thead th {\n",
       "        text-align: right;\n",
       "    }\n",
       "</style>\n",
       "<table border=\"1\" class=\"dataframe\">\n",
       "  <thead>\n",
       "    <tr style=\"text-align: right;\">\n",
       "      <th></th>\n",
       "      <th>negative_words_most</th>\n",
       "      <th>negative_prob_most</th>\n",
       "      <th>positive_words_most</th>\n",
       "      <th>positive_prob_most</th>\n",
       "    </tr>\n",
       "  </thead>\n",
       "  <tbody>\n",
       "    <tr>\n",
       "      <th>3</th>\n",
       "      <td>unfriendlyskies</td>\n",
       "      <td>0.460479</td>\n",
       "      <td>NaN</td>\n",
       "      <td>NaN</td>\n",
       "    </tr>\n",
       "    <tr>\n",
       "      <th>8</th>\n",
       "      <td>concourse</td>\n",
       "      <td>0.378579</td>\n",
       "      <td>NaN</td>\n",
       "      <td>NaN</td>\n",
       "    </tr>\n",
       "    <tr>\n",
       "      <th>11</th>\n",
       "      <td>deny</td>\n",
       "      <td>0.349503</td>\n",
       "      <td>NaN</td>\n",
       "      <td>NaN</td>\n",
       "    </tr>\n",
       "    <tr>\n",
       "      <th>14</th>\n",
       "      <td>delay hour</td>\n",
       "      <td>0.320638</td>\n",
       "      <td>NaN</td>\n",
       "      <td>NaN</td>\n",
       "    </tr>\n",
       "    <tr>\n",
       "      <th>15</th>\n",
       "      <td>lack customer</td>\n",
       "      <td>0.320487</td>\n",
       "      <td>NaN</td>\n",
       "      <td>NaN</td>\n",
       "    </tr>\n",
       "  </tbody>\n",
       "</table>\n",
       "</div>"
      ],
      "text/plain": [
       "   negative_words_most  negative_prob_most positive_words_most  \\\n",
       "3      unfriendlyskies            0.460479                 NaN   \n",
       "8            concourse            0.378579                 NaN   \n",
       "11                deny            0.349503                 NaN   \n",
       "14          delay hour            0.320638                 NaN   \n",
       "15       lack customer            0.320487                 NaN   \n",
       "\n",
       "    positive_prob_most  \n",
       "3                  NaN  \n",
       "8                  NaN  \n",
       "11                 NaN  \n",
       "14                 NaN  \n",
       "15                 NaN  "
      ]
     },
     "execution_count": 652,
     "metadata": {},
     "output_type": "execute_result"
    }
   ],
   "source": [
    "United_predictive=predictive_words('United', Xdata=Xtrain_countvec, ydata=train_eng['new_target'])\n",
    "\n",
    "United_predictive.iloc[[3,8,11,14,15]]\n"
   ]
  },
  {
   "cell_type": "code",
   "execution_count": 59,
   "id": "3182e24d",
   "metadata": {},
   "outputs": [
    {
     "data": {
      "image/png": "[encoded data removed]",
      "text/plain": [
       "<Figure size 640x480 with 1 Axes>"
      ]
     },
     "metadata": {},
     "output_type": "display_data"
    }
   ],
   "source": [
    "data = {'score':[0.320, 0.320, 0.349, 0.378, 0.460]}\n",
    "negative_words = pd.DataFrame(data, index = ['lack customer', 'delay hour', 'deny', 'concourse','unfriendlyskies'])\n",
    "ax=negative_words.plot(kind='barh')  \n",
    "ax.get_legend().remove()\n",
    "plt.title('Negative Predictive Words for United')\n",
    "plt.xlabel('Probability')\n",
    "plt.show()"
   ]
  },
  {
   "cell_type": "code",
   "execution_count": 686,
   "id": "507e12ad",
   "metadata": {},
   "outputs": [
    {
     "name": "stdout",
     "output_type": "stream",
     "text": [
      "Southwest\n",
      "\n"
     ]
    },
    {
     "data": {
      "text/html": [
       "<div>\n",
       "<style scoped>\n",
       "    .dataframe tbody tr th:only-of-type {\n",
       "        vertical-align: middle;\n",
       "    }\n",
       "\n",
       "    .dataframe tbody tr th {\n",
       "        vertical-align: top;\n",
       "    }\n",
       "\n",
       "    .dataframe thead th {\n",
       "        text-align: right;\n",
       "    }\n",
       "</style>\n",
       "<table border=\"1\" class=\"dataframe\">\n",
       "  <thead>\n",
       "    <tr style=\"text-align: right;\">\n",
       "      <th></th>\n",
       "      <th>negative_words_most</th>\n",
       "      <th>negative_prob_most</th>\n",
       "      <th>positive_words_most</th>\n",
       "      <th>positive_prob_most</th>\n",
       "    </tr>\n",
       "  </thead>\n",
       "  <tbody>\n",
       "    <tr>\n",
       "      <th>2</th>\n",
       "      <td>alist</td>\n",
       "      <td>0.256821</td>\n",
       "      <td>NaN</td>\n",
       "      <td>NaN</td>\n",
       "    </tr>\n",
       "    <tr>\n",
       "      <th>4</th>\n",
       "      <td>wifi</td>\n",
       "      <td>0.219191</td>\n",
       "      <td>NaN</td>\n",
       "      <td>NaN</td>\n",
       "    </tr>\n",
       "    <tr>\n",
       "      <th>7</th>\n",
       "      <td>slow</td>\n",
       "      <td>0.210237</td>\n",
       "      <td>NaN</td>\n",
       "      <td>NaN</td>\n",
       "    </tr>\n",
       "    <tr>\n",
       "      <th>9</th>\n",
       "      <td>clothe</td>\n",
       "      <td>0.208702</td>\n",
       "      <td>NaN</td>\n",
       "      <td>NaN</td>\n",
       "    </tr>\n",
       "    <tr>\n",
       "      <th>11</th>\n",
       "      <td>rebook online</td>\n",
       "      <td>0.205550</td>\n",
       "      <td>NaN</td>\n",
       "      <td>NaN</td>\n",
       "    </tr>\n",
       "  </tbody>\n",
       "</table>\n",
       "</div>"
      ],
      "text/plain": [
       "   negative_words_most  negative_prob_most positive_words_most  \\\n",
       "2                alist            0.256821                 NaN   \n",
       "4                 wifi            0.219191                 NaN   \n",
       "7                 slow            0.210237                 NaN   \n",
       "9               clothe            0.208702                 NaN   \n",
       "11       rebook online            0.205550                 NaN   \n",
       "\n",
       "    positive_prob_most  \n",
       "2                  NaN  \n",
       "4                  NaN  \n",
       "7                  NaN  \n",
       "9                  NaN  \n",
       "11                 NaN  "
      ]
     },
     "execution_count": 686,
     "metadata": {},
     "output_type": "execute_result"
    }
   ],
   "source": [
    "Southwest_predictive = predictive_words('Southwest', Xdata=Xtrain_countvec, ydata=train_eng['new_target'])\n",
    "\n",
    "Southwest_predictive.iloc[[2,4,7,9,11]]\n"
   ]
  },
  {
   "cell_type": "code",
   "execution_count": 58,
   "id": "f1946a91",
   "metadata": {},
   "outputs": [
    {
     "data": {
      "image/png": "[encoded data removed]",
      "text/plain": [
       "<Figure size 640x480 with 1 Axes>"
      ]
     },
     "metadata": {},
     "output_type": "display_data"
    }
   ],
   "source": [
    "data = {'score':[0.205, 0.208, 0.210, 0.219, 0.256]}\n",
    "negative_words = pd.DataFrame(data, index = ['rebook online', 'clothe', 'slow', 'wifi','alist'])\n",
    "ax=negative_words.plot(kind='barh') \n",
    "ax.get_legend().remove()\n",
    "plt.title('Negative Predictive Words for Southwest')\n",
    "plt.xlabel('Probability')\n",
    "plt.show()"
   ]
  },
  {
   "cell_type": "code",
   "execution_count": 731,
   "id": "0f59dd5c",
   "metadata": {},
   "outputs": [
    {
     "name": "stdout",
     "output_type": "stream",
     "text": [
      "American\n",
      "\n"
     ]
    },
    {
     "data": {
      "text/html": [
       "<div>\n",
       "<style scoped>\n",
       "    .dataframe tbody tr th:only-of-type {\n",
       "        vertical-align: middle;\n",
       "    }\n",
       "\n",
       "    .dataframe tbody tr th {\n",
       "        vertical-align: top;\n",
       "    }\n",
       "\n",
       "    .dataframe thead th {\n",
       "        text-align: right;\n",
       "    }\n",
       "</style>\n",
       "<table border=\"1\" class=\"dataframe\">\n",
       "  <thead>\n",
       "    <tr style=\"text-align: right;\">\n",
       "      <th></th>\n",
       "      <th>negative_words_most</th>\n",
       "      <th>negative_prob_most</th>\n",
       "      <th>positive_words_most</th>\n",
       "      <th>positive_prob_most</th>\n",
       "    </tr>\n",
       "  </thead>\n",
       "  <tbody>\n",
       "    <tr>\n",
       "      <th>3</th>\n",
       "      <td>cater</td>\n",
       "      <td>0.389793</td>\n",
       "      <td>NaN</td>\n",
       "      <td>NaN</td>\n",
       "    </tr>\n",
       "    <tr>\n",
       "      <th>5</th>\n",
       "      <td>old plane</td>\n",
       "      <td>0.340835</td>\n",
       "      <td>NaN</td>\n",
       "      <td>NaN</td>\n",
       "    </tr>\n",
       "    <tr>\n",
       "      <th>10</th>\n",
       "      <td>hang</td>\n",
       "      <td>0.283693</td>\n",
       "      <td>NaN</td>\n",
       "      <td>NaN</td>\n",
       "    </tr>\n",
       "    <tr>\n",
       "      <th>11</th>\n",
       "      <td>reps</td>\n",
       "      <td>0.281943</td>\n",
       "      <td>NaN</td>\n",
       "      <td>NaN</td>\n",
       "    </tr>\n",
       "    <tr>\n",
       "      <th>14</th>\n",
       "      <td>wait minutes</td>\n",
       "      <td>0.274959</td>\n",
       "      <td>NaN</td>\n",
       "      <td>NaN</td>\n",
       "    </tr>\n",
       "  </tbody>\n",
       "</table>\n",
       "</div>"
      ],
      "text/plain": [
       "   negative_words_most  negative_prob_most positive_words_most  \\\n",
       "3                cater            0.389793                 NaN   \n",
       "5            old plane            0.340835                 NaN   \n",
       "10                hang            0.283693                 NaN   \n",
       "11                reps            0.281943                 NaN   \n",
       "14        wait minutes            0.274959                 NaN   \n",
       "\n",
       "    positive_prob_most  \n",
       "3                  NaN  \n",
       "5                  NaN  \n",
       "10                 NaN  \n",
       "11                 NaN  \n",
       "14                 NaN  "
      ]
     },
     "execution_count": 731,
     "metadata": {},
     "output_type": "execute_result"
    }
   ],
   "source": [
    "American_predictive = predictive_words('American', Xdata=Xtrain_countvec, ydata=train_eng['new_target'])\n",
    "\n",
    "American_predictive.iloc[[3,5,10,11,14]]\n",
    "\n"
   ]
  },
  {
   "cell_type": "code",
   "execution_count": 62,
   "id": "4c13b995",
   "metadata": {},
   "outputs": [
    {
     "data": {
      "image/png": "[encoded data removed]",
      "text/plain": [
       "<Figure size 640x480 with 1 Axes>"
      ]
     },
     "metadata": {},
     "output_type": "display_data"
    }
   ],
   "source": [
    "data = {'score':[0.274, 0.281, 0.283, 0.340, 0.389]}\n",
    "negative_words = pd.DataFrame(data, index = ['wait minutes', 'reps', 'hang', 'old plane','cater'])\n",
    "ax=negative_words.plot(kind='barh') \n",
    "ax.get_legend().remove()\n",
    "plt.title('Negative Predictive Words for American')\n",
    "plt.xlabel('Probability')\n",
    "plt.show()"
   ]
  },
  {
   "cell_type": "code",
   "execution_count": 776,
   "id": "75dfbfee",
   "metadata": {},
   "outputs": [
    {
     "name": "stdout",
     "output_type": "stream",
     "text": [
      "US Airways\n",
      "\n"
     ]
    },
    {
     "data": {
      "text/html": [
       "<div>\n",
       "<style scoped>\n",
       "    .dataframe tbody tr th:only-of-type {\n",
       "        vertical-align: middle;\n",
       "    }\n",
       "\n",
       "    .dataframe tbody tr th {\n",
       "        vertical-align: top;\n",
       "    }\n",
       "\n",
       "    .dataframe thead th {\n",
       "        text-align: right;\n",
       "    }\n",
       "</style>\n",
       "<table border=\"1\" class=\"dataframe\">\n",
       "  <thead>\n",
       "    <tr style=\"text-align: right;\">\n",
       "      <th></th>\n",
       "      <th>negative_words_most</th>\n",
       "      <th>negative_prob_most</th>\n",
       "      <th>positive_words_most</th>\n",
       "      <th>positive_prob_most</th>\n",
       "    </tr>\n",
       "  </thead>\n",
       "  <tbody>\n",
       "    <tr>\n",
       "      <th>9</th>\n",
       "      <td>merge</td>\n",
       "      <td>0.336867</td>\n",
       "      <td>NaN</td>\n",
       "      <td>NaN</td>\n",
       "    </tr>\n",
       "    <tr>\n",
       "      <th>11</th>\n",
       "      <td>computer</td>\n",
       "      <td>0.324353</td>\n",
       "      <td>NaN</td>\n",
       "      <td>NaN</td>\n",
       "    </tr>\n",
       "    <tr>\n",
       "      <th>12</th>\n",
       "      <td>online flight</td>\n",
       "      <td>0.310840</td>\n",
       "      <td>NaN</td>\n",
       "      <td>NaN</td>\n",
       "    </tr>\n",
       "    <tr>\n",
       "      <th>13</th>\n",
       "      <td>ripoff</td>\n",
       "      <td>0.304397</td>\n",
       "      <td>NaN</td>\n",
       "      <td>NaN</td>\n",
       "    </tr>\n",
       "    <tr>\n",
       "      <th>17</th>\n",
       "      <td>doors close</td>\n",
       "      <td>0.291108</td>\n",
       "      <td>NaN</td>\n",
       "      <td>NaN</td>\n",
       "    </tr>\n",
       "  </tbody>\n",
       "</table>\n",
       "</div>"
      ],
      "text/plain": [
       "   negative_words_most  negative_prob_most positive_words_most  \\\n",
       "9                merge            0.336867                 NaN   \n",
       "11            computer            0.324353                 NaN   \n",
       "12       online flight            0.310840                 NaN   \n",
       "13              ripoff            0.304397                 NaN   \n",
       "17         doors close            0.291108                 NaN   \n",
       "\n",
       "    positive_prob_most  \n",
       "9                  NaN  \n",
       "11                 NaN  \n",
       "12                 NaN  \n",
       "13                 NaN  \n",
       "17                 NaN  "
      ]
     },
     "execution_count": 776,
     "metadata": {},
     "output_type": "execute_result"
    }
   ],
   "source": [
    "Airways_predictive=predictive_words('US Airways', Xdata=Xtrain_countvec, ydata=train_eng['new_target'])\n",
    "\n",
    "Airways_predictive.iloc[[9,11,12,13,17]]\n"
   ]
  },
  {
   "cell_type": "code",
   "execution_count": 63,
   "id": "fda2e9c9",
   "metadata": {},
   "outputs": [
    {
     "data": {
      "image/png": "[encoded data removed]",
      "text/plain": [
       "<Figure size 640x480 with 1 Axes>"
      ]
     },
     "metadata": {},
     "output_type": "display_data"
    }
   ],
   "source": [
    "data = {'score':[0.291, 0.304, 0.310, 0.324, 0.336]}\n",
    "negative_words = pd.DataFrame(data, index = ['doors close', 'ripoff', 'online flight', 'computer','merge'])\n",
    "ax=negative_words.plot(kind='barh') \n",
    "ax.get_legend().remove()\n",
    "plt.title('Negative Predictive Words for Airways')\n",
    "plt.xlabel('Probability')\n",
    "plt.show()"
   ]
  },
  {
   "cell_type": "code",
   "execution_count": 582,
   "id": "256de914",
   "metadata": {
    "scrolled": false
   },
   "outputs": [
    {
     "name": "stdout",
     "output_type": "stream",
     "text": [
      "Virgin America\n",
      "\n"
     ]
    },
    {
     "data": {
      "text/html": [
       "<div>\n",
       "<style scoped>\n",
       "    .dataframe tbody tr th:only-of-type {\n",
       "        vertical-align: middle;\n",
       "    }\n",
       "\n",
       "    .dataframe tbody tr th {\n",
       "        vertical-align: top;\n",
       "    }\n",
       "\n",
       "    .dataframe thead th {\n",
       "        text-align: right;\n",
       "    }\n",
       "</style>\n",
       "<table border=\"1\" class=\"dataframe\">\n",
       "  <thead>\n",
       "    <tr style=\"text-align: right;\">\n",
       "      <th></th>\n",
       "      <th>negative_words_most</th>\n",
       "      <th>negative_prob_most</th>\n",
       "      <th>positive_words_most</th>\n",
       "      <th>positive_prob_most</th>\n",
       "    </tr>\n",
       "  </thead>\n",
       "  <tbody>\n",
       "    <tr>\n",
       "      <th>0</th>\n",
       "      <td>site</td>\n",
       "      <td>0.118625</td>\n",
       "      <td>NaN</td>\n",
       "      <td>NaN</td>\n",
       "    </tr>\n",
       "    <tr>\n",
       "      <th>2</th>\n",
       "      <td>checkin</td>\n",
       "      <td>0.051085</td>\n",
       "      <td>NaN</td>\n",
       "      <td>NaN</td>\n",
       "    </tr>\n",
       "    <tr>\n",
       "      <th>4</th>\n",
       "      <td>central</td>\n",
       "      <td>0.049865</td>\n",
       "      <td>NaN</td>\n",
       "      <td>NaN</td>\n",
       "    </tr>\n",
       "    <tr>\n",
       "      <th>5</th>\n",
       "      <td>iphone</td>\n",
       "      <td>0.044453</td>\n",
       "      <td>NaN</td>\n",
       "      <td>NaN</td>\n",
       "    </tr>\n",
       "    <tr>\n",
       "      <th>7</th>\n",
       "      <td>direct flight</td>\n",
       "      <td>0.040717</td>\n",
       "      <td>NaN</td>\n",
       "      <td>NaN</td>\n",
       "    </tr>\n",
       "  </tbody>\n",
       "</table>\n",
       "</div>"
      ],
      "text/plain": [
       "  negative_words_most  negative_prob_most positive_words_most  \\\n",
       "0                site            0.118625                 NaN   \n",
       "2             checkin            0.051085                 NaN   \n",
       "4             central            0.049865                 NaN   \n",
       "5              iphone            0.044453                 NaN   \n",
       "7       direct flight            0.040717                 NaN   \n",
       "\n",
       "   positive_prob_most  \n",
       "0                 NaN  \n",
       "2                 NaN  \n",
       "4                 NaN  \n",
       "5                 NaN  \n",
       "7                 NaN  "
      ]
     },
     "execution_count": 582,
     "metadata": {},
     "output_type": "execute_result"
    }
   ],
   "source": [
    "Virgin_predictive = predictive_words('Virgin America', Xdata=Xtrain_countvec, ydata=train_eng['new_target'])\n",
    "\n",
    "Virgin_predictive.iloc[[0,2,4,5,7]]\n"
   ]
  },
  {
   "cell_type": "code",
   "execution_count": 65,
   "id": "18e586df",
   "metadata": {},
   "outputs": [
    {
     "data": {
      "image/png": "[encoded data removed]",
      "text/plain": [
       "<Figure size 640x480 with 1 Axes>"
      ]
     },
     "metadata": {},
     "output_type": "display_data"
    }
   ],
   "source": [
    "data = {'score':[0.040, 0.044, 0.049, 0.051, 0.1186]}\n",
    "negative_words = pd.DataFrame(data, index = ['direct flight', 'iphone', 'central', 'checkin','site'])\n",
    "ax=negative_words.plot(kind='barh') \n",
    "ax.get_legend().remove()\n",
    "plt.title('Negative Predictive Words for Virgin')\n",
    "plt.xlabel('Probability')\n",
    "plt.show()"
   ]
  },
  {
   "cell_type": "code",
   "execution_count": 820,
   "id": "4e057d46",
   "metadata": {},
   "outputs": [
    {
     "data": {
      "text/html": [
       "<div>\n",
       "<style scoped>\n",
       "    .dataframe tbody tr th:only-of-type {\n",
       "        vertical-align: middle;\n",
       "    }\n",
       "\n",
       "    .dataframe tbody tr th {\n",
       "        vertical-align: top;\n",
       "    }\n",
       "\n",
       "    .dataframe thead th {\n",
       "        text-align: right;\n",
       "    }\n",
       "</style>\n",
       "<table border=\"1\" class=\"dataframe\">\n",
       "  <thead>\n",
       "    <tr style=\"text-align: right;\">\n",
       "      <th></th>\n",
       "      <th>index</th>\n",
       "      <th>tweet_id</th>\n",
       "      <th>airline_sentiment</th>\n",
       "      <th>airline_sentiment_confidence</th>\n",
       "      <th>negativereason</th>\n",
       "      <th>negativereason_confidence</th>\n",
       "      <th>airline</th>\n",
       "      <th>name</th>\n",
       "      <th>retweet_count</th>\n",
       "      <th>text_x</th>\n",
       "      <th>tweet_location</th>\n",
       "      <th>user_timezone</th>\n",
       "      <th>created_date</th>\n",
       "      <th>created_hour</th>\n",
       "      <th>text_y</th>\n",
       "      <th>new_target</th>\n",
       "    </tr>\n",
       "  </thead>\n",
       "  <tbody>\n",
       "    <tr>\n",
       "      <th>2321</th>\n",
       "      <td>5284</td>\n",
       "      <td>569215950597201921</td>\n",
       "      <td>negative</td>\n",
       "      <td>1.0</td>\n",
       "      <td>Customer Service Issue</td>\n",
       "      <td>0.6632</td>\n",
       "      <td>Southwest</td>\n",
       "      <td>ChiefTimFitch</td>\n",
       "      <td>0</td>\n",
       "      <td>@SouthwestAir How to I rebook on-line when it ...</td>\n",
       "      <td>StLouisMissouriUSA</td>\n",
       "      <td>Central Time (US &amp; Canada)</td>\n",
       "      <td>2015-02-21</td>\n",
       "      <td>11</td>\n",
       "      <td>rebook online keep tell reserv number past dat...</td>\n",
       "      <td>Southwestnegative</td>\n",
       "    </tr>\n",
       "    <tr>\n",
       "      <th>2841</th>\n",
       "      <td>6666</td>\n",
       "      <td>567738715657609216</td>\n",
       "      <td>negative</td>\n",
       "      <td>1.0</td>\n",
       "      <td>Cancelled Flight</td>\n",
       "      <td>1.0000</td>\n",
       "      <td>Southwest</td>\n",
       "      <td>clements221</td>\n",
       "      <td>0</td>\n",
       "      <td>@SouthwestAir can you follow me? Flight Cancel...</td>\n",
       "      <td>NaN</td>\n",
       "      <td>NaN</td>\n",
       "      <td>2015-02-17</td>\n",
       "      <td>9</td>\n",
       "      <td>follow flight cancel flightled cant rebook onl...</td>\n",
       "      <td>Southwestnegative</td>\n",
       "    </tr>\n",
       "    <tr>\n",
       "      <th>4704</th>\n",
       "      <td>6724</td>\n",
       "      <td>567720082860949504</td>\n",
       "      <td>negative</td>\n",
       "      <td>1.0</td>\n",
       "      <td>Flight Booking Problems</td>\n",
       "      <td>1.0000</td>\n",
       "      <td>Southwest</td>\n",
       "      <td>portugrad</td>\n",
       "      <td>0</td>\n",
       "      <td>@SouthwestAir tried to rebook online but it sa...</td>\n",
       "      <td>ChicagolandArea</td>\n",
       "      <td>Central Time (US &amp; Canada)</td>\n",
       "      <td>2015-02-17</td>\n",
       "      <td>8</td>\n",
       "      <td>try rebook online say pay difference price ple...</td>\n",
       "      <td>Southwestnegative</td>\n",
       "    </tr>\n",
       "    <tr>\n",
       "      <th>5646</th>\n",
       "      <td>5235</td>\n",
       "      <td>569242798953594880</td>\n",
       "      <td>negative</td>\n",
       "      <td>1.0</td>\n",
       "      <td>Cancelled Flight</td>\n",
       "      <td>1.0000</td>\n",
       "      <td>Southwest</td>\n",
       "      <td>inspiration4ppl</td>\n",
       "      <td>0</td>\n",
       "      <td>@SouthwestAir Hi I just got a message that par...</td>\n",
       "      <td>명동서식3756638126984994</td>\n",
       "      <td>Seoul</td>\n",
       "      <td>2015-02-21</td>\n",
       "      <td>13</td>\n",
       "      <td>hi get message part flight cancel flightled ca...</td>\n",
       "      <td>Southwestnegative</td>\n",
       "    </tr>\n",
       "    <tr>\n",
       "      <th>9713</th>\n",
       "      <td>6736</td>\n",
       "      <td>567692504397803520</td>\n",
       "      <td>negative</td>\n",
       "      <td>1.0</td>\n",
       "      <td>Flight Booking Problems</td>\n",
       "      <td>0.6709</td>\n",
       "      <td>Southwest</td>\n",
       "      <td>kabell87</td>\n",
       "      <td>0</td>\n",
       "      <td>@SouthwestAir  this is really unhelpful. Why c...</td>\n",
       "      <td>NaN</td>\n",
       "      <td>NaN</td>\n",
       "      <td>2015-02-17</td>\n",
       "      <td>6</td>\n",
       "      <td>really unhelpful cant rebook online httptconosvli</td>\n",
       "      <td>Southwestnegative</td>\n",
       "    </tr>\n",
       "    <tr>\n",
       "      <th>10991</th>\n",
       "      <td>6738</td>\n",
       "      <td>567688411289755648</td>\n",
       "      <td>negative</td>\n",
       "      <td>1.0</td>\n",
       "      <td>Cancelled Flight</td>\n",
       "      <td>0.6466</td>\n",
       "      <td>Southwest</td>\n",
       "      <td>kabell87</td>\n",
       "      <td>0</td>\n",
       "      <td>@SouthwestAir flight was Cancelled Flightled a...</td>\n",
       "      <td>NaN</td>\n",
       "      <td>NaN</td>\n",
       "      <td>2015-02-17</td>\n",
       "      <td>6</td>\n",
       "      <td>flight cancel flightled wont let rebook online...</td>\n",
       "      <td>Southwestnegative</td>\n",
       "    </tr>\n",
       "  </tbody>\n",
       "</table>\n",
       "</div>"
      ],
      "text/plain": [
       "       index            tweet_id airline_sentiment  \\\n",
       "2321    5284  569215950597201921          negative   \n",
       "2841    6666  567738715657609216          negative   \n",
       "4704    6724  567720082860949504          negative   \n",
       "5646    5235  569242798953594880          negative   \n",
       "9713    6736  567692504397803520          negative   \n",
       "10991   6738  567688411289755648          negative   \n",
       "\n",
       "       airline_sentiment_confidence           negativereason  \\\n",
       "2321                            1.0   Customer Service Issue   \n",
       "2841                            1.0         Cancelled Flight   \n",
       "4704                            1.0  Flight Booking Problems   \n",
       "5646                            1.0         Cancelled Flight   \n",
       "9713                            1.0  Flight Booking Problems   \n",
       "10991                           1.0         Cancelled Flight   \n",
       "\n",
       "       negativereason_confidence    airline             name  retweet_count  \\\n",
       "2321                      0.6632  Southwest    ChiefTimFitch              0   \n",
       "2841                      1.0000  Southwest      clements221              0   \n",
       "4704                      1.0000  Southwest        portugrad              0   \n",
       "5646                      1.0000  Southwest  inspiration4ppl              0   \n",
       "9713                      0.6709  Southwest         kabell87              0   \n",
       "10991                     0.6466  Southwest         kabell87              0   \n",
       "\n",
       "                                                  text_x  \\\n",
       "2321   @SouthwestAir How to I rebook on-line when it ...   \n",
       "2841   @SouthwestAir can you follow me? Flight Cancel...   \n",
       "4704   @SouthwestAir tried to rebook online but it sa...   \n",
       "5646   @SouthwestAir Hi I just got a message that par...   \n",
       "9713   @SouthwestAir  this is really unhelpful. Why c...   \n",
       "10991  @SouthwestAir flight was Cancelled Flightled a...   \n",
       "\n",
       "             tweet_location               user_timezone created_date  \\\n",
       "2321     StLouisMissouriUSA  Central Time (US & Canada)   2015-02-21   \n",
       "2841                    NaN                         NaN   2015-02-17   \n",
       "4704        ChicagolandArea  Central Time (US & Canada)   2015-02-17   \n",
       "5646   명동서식3756638126984994                       Seoul   2015-02-21   \n",
       "9713                    NaN                         NaN   2015-02-17   \n",
       "10991                   NaN                         NaN   2015-02-17   \n",
       "\n",
       "       created_hour                                             text_y  \\\n",
       "2321             11  rebook online keep tell reserv number past dat...   \n",
       "2841              9  follow flight cancel flightled cant rebook onl...   \n",
       "4704              8  try rebook online say pay difference price ple...   \n",
       "5646             13  hi get message part flight cancel flightled ca...   \n",
       "9713              6  really unhelpful cant rebook online httptconosvli   \n",
       "10991             6  flight cancel flightled wont let rebook online...   \n",
       "\n",
       "              new_target  \n",
       "2321   Southwestnegative  \n",
       "2841   Southwestnegative  \n",
       "4704   Southwestnegative  \n",
       "5646   Southwestnegative  \n",
       "9713   Southwestnegative  \n",
       "10991  Southwestnegative  "
      ]
     },
     "execution_count": 820,
     "metadata": {},
     "output_type": "execute_result"
    }
   ],
   "source": [
    "#Locate the index of the original tweets which contain spcific words\n",
    "train_eng[train_eng.airline == 'Southwest'][train_eng[train_eng.airline == 'Southwest'].text_y.str.contains('rebook online')]\n"
   ]
  },
  {
   "cell_type": "code",
   "execution_count": 49,
   "id": "103da9d1",
   "metadata": {},
   "outputs": [
    {
     "data": {
      "text/plain": [
       "\"@AmericanAir I've been calling your 1800 # all morning to change my name for an upcoming trip but am not able to get through. Please advise!\""
      ]
     },
     "execution_count": 49,
     "metadata": {},
     "output_type": "execute_result"
    }
   ],
   "source": [
    "#Find the original tweet with the index\n",
    "train_eng.text_x.iloc[10991]\n"
   ]
  },
  {
   "cell_type": "markdown",
   "id": "c4076288",
   "metadata": {},
   "source": [
    "#### Method 2<a id='Method_2'></a>\n",
    "\n",
    "I separated dataset into 6 parts - 1 for each airline, then built a model to predict pos/neg for each airline, and found most predictive pos/neg words for each airline that way"
   ]
  },
  {
   "cell_type": "code",
   "execution_count": 85,
   "id": "5259e2d4",
   "metadata": {},
   "outputs": [],
   "source": [
    "United_train = train_eng[train_eng.airline == 'United'].text_y\n",
    "ytrain_United = train_eng[train_eng.airline == 'United'].airline_sentiment\n",
    "\n",
    "Virgin_train  = train_eng[train_eng.airline == 'Virgin America'].text_y\n",
    "ytrain_Virgin = train_eng[train_eng.airline == 'Virgin America'].airline_sentiment\n",
    "\n",
    "JetBlue_train  = train_eng[train_eng.airline == 'JetBlue'].text_y\n",
    "ytrain_JetBlue = train_eng[train_eng.airline == 'JetBlue'].airline_sentiment\n",
    "\n",
    "Southwest_train  = train_eng[train_eng.airline == 'Southwest'].text_y\n",
    "ytrain_Southwest = train_eng[train_eng.airline == 'Southwest'].airline_sentiment\n",
    "\n",
    "Airways_train  = train_eng[train_eng.airline == 'US Airways'].text_y\n",
    "ytrain_Airways = train_eng[train_eng.airline == 'US Airways'].airline_sentiment\n",
    "\n",
    "American_train  = train_eng[train_eng.airline == 'American'].text_y\n",
    "ytrain_American = train_eng[train_eng.airline == 'American'].airline_sentiment"
   ]
  },
  {
   "cell_type": "code",
   "execution_count": 91,
   "id": "90f03fe5",
   "metadata": {},
   "outputs": [
    {
     "data": {
      "text/plain": [
       "14033    approach three hours sit plane grind dfw ameri...\n",
       "11744    hours late flightr flight cancel flightled get...\n",
       "6542     thank reply something phone becuz drop call ho...\n",
       "8200     get plane wait another hours someone read temp...\n",
       "13277    tell minute wait time wait hours hour go ridic...\n",
       "                               ...                        \n",
       "5166                          yep two hours thirty minutes\n",
       "1418     asap mean two hours worth delay return termina...\n",
       "4506     quick question buy wifi phone buy tablet hours...\n",
       "12955    advantage agents horrible ive wait hours call ...\n",
       "10376                change flight hours crazy please help\n",
       "Name: text, Length: 521, dtype: object"
      ]
     },
     "execution_count": 91,
     "metadata": {},
     "output_type": "execute_result"
    }
   ],
   "source": [
    "X_train[X_train.str.contains('hours')]"
   ]
  },
  {
   "cell_type": "code",
   "execution_count": 123,
   "id": "d42fb73d",
   "metadata": {},
   "outputs": [],
   "source": [
    "words = np.array(vectorizer_countvec.get_feature_names())\n",
    "\n",
    "def predictive_words_lr(airline_name, Xdata, ydata):\n",
    "    \n",
    "    print(airline_name)\n",
    "\n",
    "    train_countvec = vectorizer_countvec.transform(Xdata)\n",
    "    model_airline = LogisticRegression(C=1, solver='liblinear').fit(train_countvec, ydata)\n",
    "    airline_x = np.eye(train_countvec.shape[1])\n",
    "    probs_neg = model_airline.predict_proba(airline_x)[:, 0]\n",
    "\n",
    "    ind = np.argsort(probs_neg)\n",
    "    negative_words_most = words[ind[-5:]][::-1]\n",
    "    negative_prob_most = probs_neg[ind[-5:]][::-1]\n",
    "\n",
    "    print(\"negative words\\t     P(negative | word)\")\n",
    "    for w, p in zip(negative_words_most, negative_prob_most):\n",
    "        print(\"{:>20}\".format(w), \"{:.2f}\".format(p))\n",
    "\n",
    "\n",
    "    probs_positive = model_airline.predict_proba(airline_x)[:, 2]\n",
    "    ind_pos = np.argsort(probs_positive)\n",
    "    positive_words_most = words[ind_pos[-5:]][::-1]\n",
    "    positive_prob_most = probs_positive[ind_pos[-5:]][::-1]\n",
    "\n",
    "    print(\"positive words\\t     P(positive | word)\")\n",
    "    for w, p in zip(positive_words_most, positive_prob_most):\n",
    "        #print(\"{:>20}\".format(w), \"{:.2f}\".format(p))\n",
    "        print(\"{:>20}\".format(w), \"{:.2f}\".format(p))\n",
    "    "
   ]
  },
  {
   "cell_type": "code",
   "execution_count": 124,
   "id": "d24f651e",
   "metadata": {},
   "outputs": [
    {
     "name": "stdout",
     "output_type": "stream",
     "text": [
      "United Airline\n",
      "negative words\t     P(negative | word)\n",
      "               delay 0.82\n",
      "               worst 0.82\n",
      "                 say 0.82\n",
      "              charge 0.81\n",
      "                 hrs 0.78\n",
      "positive words\t     P(positive | word)\n",
      "               thank 0.68\n",
      "                thnx 0.55\n",
      "           wonderful 0.54\n",
      "               great 0.54\n",
      "                 thx 0.51\n"
     ]
    }
   ],
   "source": [
    "predictive_words_lr('United Airline',United_train, ytrain_United)"
   ]
  },
  {
   "cell_type": "code",
   "execution_count": 125,
   "id": "dc45a1e9",
   "metadata": {},
   "outputs": [
    {
     "name": "stdout",
     "output_type": "stream",
     "text": [
      "Airways Airline\n",
      "negative words\t     P(negative | word)\n",
      "               hours 0.90\n",
      "               delay 0.88\n",
      "                hour 0.86\n",
      "                late 0.85\n",
      "              answer 0.85\n",
      "positive words\t     P(positive | word)\n",
      "               thank 0.61\n",
      "             awesome 0.49\n",
      "               great 0.47\n",
      "                 thx 0.37\n",
      "         exceptional 0.36\n"
     ]
    }
   ],
   "source": [
    "predictive_words_lr('Airways Airline',Airways_train, ytrain_Airways)"
   ]
  },
  {
   "cell_type": "code",
   "execution_count": 126,
   "id": "35152a3f",
   "metadata": {},
   "outputs": [
    {
     "name": "stdout",
     "output_type": "stream",
     "text": [
      "American Airline\n",
      "negative words\t     P(negative | word)\n",
      "                days 0.84\n",
      "                miss 0.84\n",
      "             luggage 0.84\n",
      "               worst 0.83\n",
      "                hold 0.81\n",
      "positive words\t     P(positive | word)\n",
      "               thank 0.71\n",
      "                good 0.47\n",
      "               great 0.44\n",
      "                love 0.44\n",
      "             awesome 0.42\n"
     ]
    }
   ],
   "source": [
    "predictive_words_lr('American Airline',American_train, ytrain_American)"
   ]
  },
  {
   "cell_type": "code",
   "execution_count": 127,
   "id": "3fc0a199",
   "metadata": {},
   "outputs": [
    {
     "name": "stdout",
     "output_type": "stream",
     "text": [
      "Southwest Airline\n",
      "negative words\t     P(negative | word)\n",
      "                hold 0.73\n",
      "                 bag 0.72\n",
      "             luggage 0.71\n",
      "               delay 0.67\n",
      "               hours 0.67\n",
      "positive words\t     P(positive | word)\n",
      "               thank 0.76\n",
      "             awesome 0.71\n",
      "               great 0.65\n",
      "               amaze 0.64\n",
      "                love 0.60\n"
     ]
    }
   ],
   "source": [
    "predictive_words_lr('Southwest Airline',Southwest_train, ytrain_Southwest)"
   ]
  },
  {
   "cell_type": "code",
   "execution_count": 128,
   "id": "480d47ec",
   "metadata": {},
   "outputs": [
    {
     "name": "stdout",
     "output_type": "stream",
     "text": [
      "JetBlue Airline\n",
      "negative words\t     P(negative | word)\n",
      "               delay 0.71\n",
      "             respond 0.65\n",
      "               hours 0.64\n",
      "                hour 0.63\n",
      "                 pay 0.63\n",
      "positive words\t     P(positive | word)\n",
      "               thank 0.82\n",
      "               great 0.67\n",
      "                love 0.57\n",
      "                 hot 0.54\n",
      "                best 0.53\n"
     ]
    }
   ],
   "source": [
    "predictive_words_lr('JetBlue Airline',JetBlue_train, ytrain_JetBlue)"
   ]
  },
  {
   "cell_type": "code",
   "execution_count": 129,
   "id": "36f56c27",
   "metadata": {},
   "outputs": [
    {
     "name": "stdout",
     "output_type": "stream",
     "text": [
      "Virgin Airline\n",
      "negative words\t     P(negative | word)\n",
      "                site 0.58\n",
      "               delay 0.55\n",
      "                seat 0.50\n",
      "                 try 0.49\n",
      "             website 0.47\n",
      "positive words\t     P(positive | word)\n",
      "               thank 0.75\n",
      "                best 0.61\n",
      "                love 0.58\n",
      "               amaze 0.57\n",
      "               great 0.57\n"
     ]
    }
   ],
   "source": [
    "predictive_words_lr('Virgin Airline',Virgin_train, ytrain_Virgin)"
   ]
  },
  {
   "cell_type": "markdown",
   "id": "adb35f5a",
   "metadata": {},
   "source": [
    "### Conclusions<a id='Conclusions'></a>"
   ]
  },
  {
   "cell_type": "markdown",
   "id": "5db509bf",
   "metadata": {},
   "source": [
    "The sentiment analysis performed in this project can help airlines improve their relationship with their customers, primarily in two ways. \n",
    "\n",
    "First, the predictive keywords of positive and negative sentiment that resulted from this analysis can help airlines target customer pain points to properly prioritize and allocate their resources most effectively to address the issues that will have the greatest impact. The predictive words can also be used to help airlines understand what differentiates them from other airlines, both positively and negatively. On the positive side, this can help with marketing campaigns and branding, as they'll have a better idea of how they are seen in the eyes of the customer. On the negative side, this can help point out areas in which they are lacking in regards to their competition and, therefore, where they may want to focus their efforts.\n",
    "\n",
    "Secondly, the Logistic Regression model developed here can be used to predict positive and negative sentiment on tweets as they happen in real-time. This can be useful for airlines in order to help monitor customers' satisfaction, respond to customers' negative sentiments promptly, increase loyalty among the customer base, and build a positive brand reputation. \n"
   ]
  }
 ],
 "metadata": {
  "kernelspec": {
   "display_name": "Python 3 (ipykernel)",
   "language": "python",
   "name": "python3"
  },
  "language_info": {
   "codemirror_mode": {
    "name": "ipython",
    "version": 3
   },
   "file_extension": ".py",
   "mimetype": "text/x-python",
   "name": "python",
   "nbconvert_exporter": "python",
   "pygments_lexer": "ipython3",
   "version": "3.7.4"
  }
 },
 "nbformat": 4,
 "nbformat_minor": 5
}
