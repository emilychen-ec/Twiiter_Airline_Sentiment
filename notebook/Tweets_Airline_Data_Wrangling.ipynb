{
 "cells": [
  {
   "cell_type": "markdown",
   "id": "db332d0f",
   "metadata": {},
   "source": [
    "# Tweets Airline Project - Data Wrangling\n",
    "***"
   ]
  },
  {
   "cell_type": "markdown",
   "id": "2b1cc06b",
   "metadata": {},
   "source": [
    "## Contents<a id='Table of Contents'></a>\n",
    "\n",
    "\n",
    "- [Imports](#Imports)\n",
    "- [Load The Tweets Data](#Load_The_Tweets_Data)\n",
    "- [Explore The Data](#Explore_The_Data)\n",
    "  - [Number Of Missing And Duplicate Values By Column](#Number_Of_Missing_And_Duplicate_Values_By_Column)\n",
    "  - [Examine The Feature: tweet_coord](#'weet_coord')\n",
    "  - [Check Duplicates](#Check_Duplicates)\n",
    "  - [Drop Rows](#Drop_Rows)\n",
    "  - [Disribution Of Numeric Feature Values](#Disribution_Of_Numeric_Feature_Values)\n",
    "  - [Categorical Features](#Categorical_Features)\n",
    "   - [Examine user_timezone and tweet_location](#user_timezone_and_tweet_location)\n",
    "   - [Derive New Features](#Derive_New_Features)\n",
    "   - [Distribution Of Categorical Feature Values](#Disribution_Of_Categorical_Feature_Values)\n",
    "- [Save The Dataset](#Save_The_Dataset)"
   ]
  },
  {
   "cell_type": "markdown",
   "id": "d30c4be8",
   "metadata": {},
   "source": [
    "### Imports<a id='Imports'></a>\n",
    "***"
   ]
  },
  {
   "cell_type": "code",
   "execution_count": 2,
   "id": "d210b757",
   "metadata": {},
   "outputs": [],
   "source": [
    "import pandas as pd\n",
    "import numpy as np\n",
    "import seaborn as sns\n",
    "import matplotlib.pyplot as plt\n",
    "import matplotlib as mpl\n",
    "import json\n",
    "import os\n",
    "from datetime import datetime\n",
    "\n",
    "import warnings\n",
    "warnings.filterwarnings('ignore')"
   ]
  },
  {
   "cell_type": "markdown",
   "id": "6a787562",
   "metadata": {},
   "source": [
    "### Load The Tweets Data<a id='Load_The_Tweets_Data'></a>\n",
    "***"
   ]
  },
  {
   "cell_type": "code",
   "execution_count": 5,
   "id": "aa5c49c6",
   "metadata": {},
   "outputs": [],
   "source": [
    "tweets = pd.read_csv('../data/Tweets.csv', header=0)"
   ]
  },
  {
   "cell_type": "code",
   "execution_count": 6,
   "id": "683093e2",
   "metadata": {},
   "outputs": [
    {
     "data": {
      "text/html": [
       "<div>\n",
       "<style scoped>\n",
       "    .dataframe tbody tr th:only-of-type {\n",
       "        vertical-align: middle;\n",
       "    }\n",
       "\n",
       "    .dataframe tbody tr th {\n",
       "        vertical-align: top;\n",
       "    }\n",
       "\n",
       "    .dataframe thead th {\n",
       "        text-align: right;\n",
       "    }\n",
       "</style>\n",
       "<table border=\"1\" class=\"dataframe\">\n",
       "  <thead>\n",
       "    <tr style=\"text-align: right;\">\n",
       "      <th></th>\n",
       "      <th>tweet_id</th>\n",
       "      <th>airline_sentiment</th>\n",
       "      <th>airline_sentiment_confidence</th>\n",
       "      <th>negativereason</th>\n",
       "      <th>negativereason_confidence</th>\n",
       "      <th>airline</th>\n",
       "      <th>airline_sentiment_gold</th>\n",
       "      <th>name</th>\n",
       "      <th>negativereason_gold</th>\n",
       "      <th>retweet_count</th>\n",
       "      <th>text</th>\n",
       "      <th>tweet_coord</th>\n",
       "      <th>tweet_created</th>\n",
       "      <th>tweet_location</th>\n",
       "      <th>user_timezone</th>\n",
       "    </tr>\n",
       "  </thead>\n",
       "  <tbody>\n",
       "    <tr>\n",
       "      <th>0</th>\n",
       "      <td>570306133677760513</td>\n",
       "      <td>neutral</td>\n",
       "      <td>1.0000</td>\n",
       "      <td>NaN</td>\n",
       "      <td>NaN</td>\n",
       "      <td>Virgin America</td>\n",
       "      <td>NaN</td>\n",
       "      <td>cairdin</td>\n",
       "      <td>NaN</td>\n",
       "      <td>0</td>\n",
       "      <td>@VirginAmerica What @dhepburn said.</td>\n",
       "      <td>NaN</td>\n",
       "      <td>2015-02-24 11:35:52 -0800</td>\n",
       "      <td>NaN</td>\n",
       "      <td>Eastern Time (US &amp; Canada)</td>\n",
       "    </tr>\n",
       "    <tr>\n",
       "      <th>1</th>\n",
       "      <td>570301130888122368</td>\n",
       "      <td>positive</td>\n",
       "      <td>0.3486</td>\n",
       "      <td>NaN</td>\n",
       "      <td>0.0000</td>\n",
       "      <td>Virgin America</td>\n",
       "      <td>NaN</td>\n",
       "      <td>jnardino</td>\n",
       "      <td>NaN</td>\n",
       "      <td>0</td>\n",
       "      <td>@VirginAmerica plus you've added commercials t...</td>\n",
       "      <td>NaN</td>\n",
       "      <td>2015-02-24 11:15:59 -0800</td>\n",
       "      <td>NaN</td>\n",
       "      <td>Pacific Time (US &amp; Canada)</td>\n",
       "    </tr>\n",
       "    <tr>\n",
       "      <th>2</th>\n",
       "      <td>570301083672813571</td>\n",
       "      <td>neutral</td>\n",
       "      <td>0.6837</td>\n",
       "      <td>NaN</td>\n",
       "      <td>NaN</td>\n",
       "      <td>Virgin America</td>\n",
       "      <td>NaN</td>\n",
       "      <td>yvonnalynn</td>\n",
       "      <td>NaN</td>\n",
       "      <td>0</td>\n",
       "      <td>@VirginAmerica I didn't today... Must mean I n...</td>\n",
       "      <td>NaN</td>\n",
       "      <td>2015-02-24 11:15:48 -0800</td>\n",
       "      <td>Lets Play</td>\n",
       "      <td>Central Time (US &amp; Canada)</td>\n",
       "    </tr>\n",
       "    <tr>\n",
       "      <th>3</th>\n",
       "      <td>570301031407624196</td>\n",
       "      <td>negative</td>\n",
       "      <td>1.0000</td>\n",
       "      <td>Bad Flight</td>\n",
       "      <td>0.7033</td>\n",
       "      <td>Virgin America</td>\n",
       "      <td>NaN</td>\n",
       "      <td>jnardino</td>\n",
       "      <td>NaN</td>\n",
       "      <td>0</td>\n",
       "      <td>@VirginAmerica it's really aggressive to blast...</td>\n",
       "      <td>NaN</td>\n",
       "      <td>2015-02-24 11:15:36 -0800</td>\n",
       "      <td>NaN</td>\n",
       "      <td>Pacific Time (US &amp; Canada)</td>\n",
       "    </tr>\n",
       "    <tr>\n",
       "      <th>4</th>\n",
       "      <td>570300817074462722</td>\n",
       "      <td>negative</td>\n",
       "      <td>1.0000</td>\n",
       "      <td>Can't Tell</td>\n",
       "      <td>1.0000</td>\n",
       "      <td>Virgin America</td>\n",
       "      <td>NaN</td>\n",
       "      <td>jnardino</td>\n",
       "      <td>NaN</td>\n",
       "      <td>0</td>\n",
       "      <td>@VirginAmerica and it's a really big bad thing...</td>\n",
       "      <td>NaN</td>\n",
       "      <td>2015-02-24 11:14:45 -0800</td>\n",
       "      <td>NaN</td>\n",
       "      <td>Pacific Time (US &amp; Canada)</td>\n",
       "    </tr>\n",
       "  </tbody>\n",
       "</table>\n",
       "</div>"
      ],
      "text/plain": [
       "             tweet_id airline_sentiment  airline_sentiment_confidence  \\\n",
       "0  570306133677760513           neutral                        1.0000   \n",
       "1  570301130888122368          positive                        0.3486   \n",
       "2  570301083672813571           neutral                        0.6837   \n",
       "3  570301031407624196          negative                        1.0000   \n",
       "4  570300817074462722          negative                        1.0000   \n",
       "\n",
       "  negativereason  negativereason_confidence         airline  \\\n",
       "0            NaN                        NaN  Virgin America   \n",
       "1            NaN                     0.0000  Virgin America   \n",
       "2            NaN                        NaN  Virgin America   \n",
       "3     Bad Flight                     0.7033  Virgin America   \n",
       "4     Can't Tell                     1.0000  Virgin America   \n",
       "\n",
       "  airline_sentiment_gold        name negativereason_gold  retweet_count  \\\n",
       "0                    NaN     cairdin                 NaN              0   \n",
       "1                    NaN    jnardino                 NaN              0   \n",
       "2                    NaN  yvonnalynn                 NaN              0   \n",
       "3                    NaN    jnardino                 NaN              0   \n",
       "4                    NaN    jnardino                 NaN              0   \n",
       "\n",
       "                                                text tweet_coord  \\\n",
       "0                @VirginAmerica What @dhepburn said.         NaN   \n",
       "1  @VirginAmerica plus you've added commercials t...         NaN   \n",
       "2  @VirginAmerica I didn't today... Must mean I n...         NaN   \n",
       "3  @VirginAmerica it's really aggressive to blast...         NaN   \n",
       "4  @VirginAmerica and it's a really big bad thing...         NaN   \n",
       "\n",
       "               tweet_created tweet_location               user_timezone  \n",
       "0  2015-02-24 11:35:52 -0800            NaN  Eastern Time (US & Canada)  \n",
       "1  2015-02-24 11:15:59 -0800            NaN  Pacific Time (US & Canada)  \n",
       "2  2015-02-24 11:15:48 -0800      Lets Play  Central Time (US & Canada)  \n",
       "3  2015-02-24 11:15:36 -0800            NaN  Pacific Time (US & Canada)  \n",
       "4  2015-02-24 11:14:45 -0800            NaN  Pacific Time (US & Canada)  "
      ]
     },
     "execution_count": 6,
     "metadata": {},
     "output_type": "execute_result"
    }
   ],
   "source": [
    "# Load the dataset\n",
    "tweets.head()"
   ]
  },
  {
   "cell_type": "code",
   "execution_count": 7,
   "id": "d16683b1",
   "metadata": {},
   "outputs": [
    {
     "name": "stdout",
     "output_type": "stream",
     "text": [
      "<class 'pandas.core.frame.DataFrame'>\n",
      "RangeIndex: 14640 entries, 0 to 14639\n",
      "Data columns (total 15 columns):\n",
      " #   Column                        Non-Null Count  Dtype  \n",
      "---  ------                        --------------  -----  \n",
      " 0   tweet_id                      14640 non-null  int64  \n",
      " 1   airline_sentiment             14640 non-null  object \n",
      " 2   airline_sentiment_confidence  14640 non-null  float64\n",
      " 3   negativereason                9178 non-null   object \n",
      " 4   negativereason_confidence     10522 non-null  float64\n",
      " 5   airline                       14640 non-null  object \n",
      " 6   airline_sentiment_gold        40 non-null     object \n",
      " 7   name                          14640 non-null  object \n",
      " 8   negativereason_gold           32 non-null     object \n",
      " 9   retweet_count                 14640 non-null  int64  \n",
      " 10  text                          14640 non-null  object \n",
      " 11  tweet_coord                   1019 non-null   object \n",
      " 12  tweet_created                 14640 non-null  object \n",
      " 13  tweet_location                9907 non-null   object \n",
      " 14  user_timezone                 9820 non-null   object \n",
      "dtypes: float64(2), int64(2), object(11)\n",
      "memory usage: 1.7+ MB\n"
     ]
    }
   ],
   "source": [
    "# Check the shape\n",
    "tweets.info()"
   ]
  },
  {
   "cell_type": "code",
   "execution_count": 8,
   "id": "47a61575",
   "metadata": {},
   "outputs": [],
   "source": [
    "#change tweet_id from integer to object\n",
    "tweets['tweet_id'] = tweets['tweet_id'].astype(object)"
   ]
  },
  {
   "cell_type": "markdown",
   "id": "0c20d792",
   "metadata": {},
   "source": [
    "### Explore The Data <a id='Explore_The_Data'></a>\n",
    "***"
   ]
  },
  {
   "cell_type": "markdown",
   "id": "959b3f47",
   "metadata": {},
   "source": [
    "#### Number Of Missing And Duplicate Values By Column <a id='Number_Of_Missing_And_Duplicate_Values_By_Column'></a>\n"
   ]
  },
  {
   "cell_type": "code",
   "execution_count": 9,
   "id": "04b2f0cc",
   "metadata": {},
   "outputs": [
    {
     "data": {
      "text/html": [
       "<div>\n",
       "<style scoped>\n",
       "    .dataframe tbody tr th:only-of-type {\n",
       "        vertical-align: middle;\n",
       "    }\n",
       "\n",
       "    .dataframe tbody tr th {\n",
       "        vertical-align: top;\n",
       "    }\n",
       "\n",
       "    .dataframe thead th {\n",
       "        text-align: right;\n",
       "    }\n",
       "</style>\n",
       "<table border=\"1\" class=\"dataframe\">\n",
       "  <thead>\n",
       "    <tr style=\"text-align: right;\">\n",
       "      <th></th>\n",
       "      <th>count</th>\n",
       "      <th>%</th>\n",
       "    </tr>\n",
       "  </thead>\n",
       "  <tbody>\n",
       "    <tr>\n",
       "      <th>tweet_id</th>\n",
       "      <td>0</td>\n",
       "      <td>0.000000</td>\n",
       "    </tr>\n",
       "    <tr>\n",
       "      <th>airline_sentiment</th>\n",
       "      <td>0</td>\n",
       "      <td>0.000000</td>\n",
       "    </tr>\n",
       "    <tr>\n",
       "      <th>airline_sentiment_confidence</th>\n",
       "      <td>0</td>\n",
       "      <td>0.000000</td>\n",
       "    </tr>\n",
       "    <tr>\n",
       "      <th>airline</th>\n",
       "      <td>0</td>\n",
       "      <td>0.000000</td>\n",
       "    </tr>\n",
       "    <tr>\n",
       "      <th>name</th>\n",
       "      <td>0</td>\n",
       "      <td>0.000000</td>\n",
       "    </tr>\n",
       "    <tr>\n",
       "      <th>retweet_count</th>\n",
       "      <td>0</td>\n",
       "      <td>0.000000</td>\n",
       "    </tr>\n",
       "    <tr>\n",
       "      <th>text</th>\n",
       "      <td>0</td>\n",
       "      <td>0.000000</td>\n",
       "    </tr>\n",
       "    <tr>\n",
       "      <th>tweet_created</th>\n",
       "      <td>0</td>\n",
       "      <td>0.000000</td>\n",
       "    </tr>\n",
       "    <tr>\n",
       "      <th>negativereason_confidence</th>\n",
       "      <td>4118</td>\n",
       "      <td>28.128415</td>\n",
       "    </tr>\n",
       "    <tr>\n",
       "      <th>tweet_location</th>\n",
       "      <td>4733</td>\n",
       "      <td>32.329235</td>\n",
       "    </tr>\n",
       "    <tr>\n",
       "      <th>user_timezone</th>\n",
       "      <td>4820</td>\n",
       "      <td>32.923497</td>\n",
       "    </tr>\n",
       "    <tr>\n",
       "      <th>negativereason</th>\n",
       "      <td>5462</td>\n",
       "      <td>37.308743</td>\n",
       "    </tr>\n",
       "    <tr>\n",
       "      <th>tweet_coord</th>\n",
       "      <td>13621</td>\n",
       "      <td>93.039617</td>\n",
       "    </tr>\n",
       "    <tr>\n",
       "      <th>airline_sentiment_gold</th>\n",
       "      <td>14600</td>\n",
       "      <td>99.726776</td>\n",
       "    </tr>\n",
       "    <tr>\n",
       "      <th>negativereason_gold</th>\n",
       "      <td>14608</td>\n",
       "      <td>99.781421</td>\n",
       "    </tr>\n",
       "  </tbody>\n",
       "</table>\n",
       "</div>"
      ],
      "text/plain": [
       "                              count          %\n",
       "tweet_id                          0   0.000000\n",
       "airline_sentiment                 0   0.000000\n",
       "airline_sentiment_confidence      0   0.000000\n",
       "airline                           0   0.000000\n",
       "name                              0   0.000000\n",
       "retweet_count                     0   0.000000\n",
       "text                              0   0.000000\n",
       "tweet_created                     0   0.000000\n",
       "negativereason_confidence      4118  28.128415\n",
       "tweet_location                 4733  32.329235\n",
       "user_timezone                  4820  32.923497\n",
       "negativereason                 5462  37.308743\n",
       "tweet_coord                   13621  93.039617\n",
       "airline_sentiment_gold        14600  99.726776\n",
       "negativereason_gold           14608  99.781421"
      ]
     },
     "execution_count": 9,
     "metadata": {},
     "output_type": "execute_result"
    }
   ],
   "source": [
    "#Count the number of missing values and duplicates in each column and sort them.\n",
    "missing = pd.concat([tweets.isnull().sum(), 100*tweets.isnull().mean()], axis=1)\n",
    "missing.columns = ['count', '%']\n",
    "missing.sort_values(by='count')"
   ]
  },
  {
   "cell_type": "markdown",
   "id": "d4ffc59c",
   "metadata": {},
   "source": [
    "#### Examine The Feature: tweet_coord<a id='tweet_coord'></a>"
   ]
  },
  {
   "cell_type": "markdown",
   "id": "849fee2c",
   "metadata": {},
   "source": [
    "`tweet_coord` has 93% missing data. I am not sure if I want to delete this feature, so I decided to check the value_counts of this column."
   ]
  },
  {
   "cell_type": "code",
   "execution_count": 10,
   "id": "51abd128",
   "metadata": {},
   "outputs": [
    {
     "data": {
      "text/plain": [
       "[0.0, 0.0]                      164\n",
       "[40.64656067, -73.78334045]       6\n",
       "[32.91792297, -97.00367737]       3\n",
       "[40.64646912, -73.79133606]       3\n",
       "[35.22643463, -80.93879965]       2\n",
       "                               ... \n",
       "[40.69429232, -74.17208436]       1\n",
       "[37.61833841, -122.38389799]      1\n",
       "[37.61859126, -122.38385699]      1\n",
       "[45.58931882, -122.5959928]       1\n",
       "[40.64946781, -73.76624703]       1\n",
       "Name: tweet_coord, Length: 832, dtype: int64"
      ]
     },
     "execution_count": 10,
     "metadata": {},
     "output_type": "execute_result"
    }
   ],
   "source": [
    "tweets.tweet_coord.value_counts()"
   ]
  },
  {
   "cell_type": "code",
   "execution_count": 12,
   "id": "1c75bbba",
   "metadata": {},
   "outputs": [
    {
     "data": {
      "text/html": [
       "<div>\n",
       "<style scoped>\n",
       "    .dataframe tbody tr th:only-of-type {\n",
       "        vertical-align: middle;\n",
       "    }\n",
       "\n",
       "    .dataframe tbody tr th {\n",
       "        vertical-align: top;\n",
       "    }\n",
       "\n",
       "    .dataframe thead th {\n",
       "        text-align: right;\n",
       "    }\n",
       "</style>\n",
       "<table border=\"1\" class=\"dataframe\">\n",
       "  <thead>\n",
       "    <tr style=\"text-align: right;\">\n",
       "      <th></th>\n",
       "      <th>tweet_id</th>\n",
       "      <th>airline_sentiment</th>\n",
       "      <th>airline_sentiment_confidence</th>\n",
       "      <th>negativereason</th>\n",
       "      <th>negativereason_confidence</th>\n",
       "      <th>airline</th>\n",
       "      <th>airline_sentiment_gold</th>\n",
       "      <th>name</th>\n",
       "      <th>negativereason_gold</th>\n",
       "      <th>retweet_count</th>\n",
       "      <th>text</th>\n",
       "      <th>tweet_coord</th>\n",
       "      <th>tweet_created</th>\n",
       "      <th>tweet_location</th>\n",
       "      <th>user_timezone</th>\n",
       "    </tr>\n",
       "  </thead>\n",
       "  <tbody>\n",
       "    <tr>\n",
       "      <th>85</th>\n",
       "      <td>569926998824394752</td>\n",
       "      <td>negative</td>\n",
       "      <td>1.0000</td>\n",
       "      <td>Flight Booking Problems</td>\n",
       "      <td>1.0000</td>\n",
       "      <td>Virgin America</td>\n",
       "      <td>NaN</td>\n",
       "      <td>jsatk</td>\n",
       "      <td>NaN</td>\n",
       "      <td>0</td>\n",
       "      <td>@VirginAmerica I’m having trouble adding this ...</td>\n",
       "      <td>[0.0, 0.0]</td>\n",
       "      <td>2015-02-23 10:29:19 -0800</td>\n",
       "      <td>Lower Pacific Heights, SF, CA</td>\n",
       "      <td>Pacific Time (US &amp; Canada)</td>\n",
       "    </tr>\n",
       "    <tr>\n",
       "      <th>103</th>\n",
       "      <td>569891436100874241</td>\n",
       "      <td>negative</td>\n",
       "      <td>0.6925</td>\n",
       "      <td>Late Flight</td>\n",
       "      <td>0.3521</td>\n",
       "      <td>Virgin America</td>\n",
       "      <td>NaN</td>\n",
       "      <td>mrmichaellay</td>\n",
       "      <td>NaN</td>\n",
       "      <td>0</td>\n",
       "      <td>@virginamerica how's a direct flight FLL-&amp;gt;S...</td>\n",
       "      <td>[0.0, 0.0]</td>\n",
       "      <td>2015-02-23 08:08:01 -0800</td>\n",
       "      <td>Floridian from Cincinnati</td>\n",
       "      <td>Eastern Time (US &amp; Canada)</td>\n",
       "    </tr>\n",
       "    <tr>\n",
       "      <th>106</th>\n",
       "      <td>569884551712886785</td>\n",
       "      <td>negative</td>\n",
       "      <td>1.0000</td>\n",
       "      <td>Customer Service Issue</td>\n",
       "      <td>1.0000</td>\n",
       "      <td>Virgin America</td>\n",
       "      <td>NaN</td>\n",
       "      <td>BeLeather</td>\n",
       "      <td>NaN</td>\n",
       "      <td>0</td>\n",
       "      <td>@VirginAmerica called your service line and wa...</td>\n",
       "      <td>[0.0, 0.0]</td>\n",
       "      <td>2015-02-23 07:40:39 -0800</td>\n",
       "      <td>NaN</td>\n",
       "      <td>Pacific Time (US &amp; Canada)</td>\n",
       "    </tr>\n",
       "  </tbody>\n",
       "</table>\n",
       "</div>"
      ],
      "text/plain": [
       "               tweet_id airline_sentiment  airline_sentiment_confidence  \\\n",
       "85   569926998824394752          negative                        1.0000   \n",
       "103  569891436100874241          negative                        0.6925   \n",
       "106  569884551712886785          negative                        1.0000   \n",
       "\n",
       "              negativereason  negativereason_confidence         airline  \\\n",
       "85   Flight Booking Problems                     1.0000  Virgin America   \n",
       "103              Late Flight                     0.3521  Virgin America   \n",
       "106   Customer Service Issue                     1.0000  Virgin America   \n",
       "\n",
       "    airline_sentiment_gold          name negativereason_gold  retweet_count  \\\n",
       "85                     NaN         jsatk                 NaN              0   \n",
       "103                    NaN  mrmichaellay                 NaN              0   \n",
       "106                    NaN     BeLeather                 NaN              0   \n",
       "\n",
       "                                                  text tweet_coord  \\\n",
       "85   @VirginAmerica I’m having trouble adding this ...  [0.0, 0.0]   \n",
       "103  @virginamerica how's a direct flight FLL-&gt;S...  [0.0, 0.0]   \n",
       "106  @VirginAmerica called your service line and wa...  [0.0, 0.0]   \n",
       "\n",
       "                 tweet_created                 tweet_location  \\\n",
       "85   2015-02-23 10:29:19 -0800  Lower Pacific Heights, SF, CA   \n",
       "103  2015-02-23 08:08:01 -0800     Floridian from Cincinnati    \n",
       "106  2015-02-23 07:40:39 -0800                            NaN   \n",
       "\n",
       "                  user_timezone  \n",
       "85   Pacific Time (US & Canada)  \n",
       "103  Eastern Time (US & Canada)  \n",
       "106  Pacific Time (US & Canada)  "
      ]
     },
     "execution_count": 12,
     "metadata": {},
     "output_type": "execute_result"
    }
   ],
   "source": [
    "#check [0.0, 0.0] since it makes up the majority of tweet_coord\n",
    "tweets[tweets.tweet_coord == '[0.0, 0.0]'].head(3)"
   ]
  },
  {
   "cell_type": "markdown",
   "id": "600c8a3e",
   "metadata": {},
   "source": [
    "For the rest of the 7% data on the 'tweets-coord' column, 164 out of 832 was '[0.0, 0.0]', which indicates the location in the Gulf of Guinea (South Atlantic Ocean) off the west African coast known as Null Island. However, when I pulled the data, the tweet_location didn't match here. Therefore, this column will be deleted."
   ]
  },
  {
   "cell_type": "markdown",
   "id": "fc7d865c",
   "metadata": {},
   "source": [
    "#### Check Duplicates<a id='Check_Duplicates'></a>"
   ]
  },
  {
   "cell_type": "code",
   "execution_count": 34,
   "id": "f572b78b",
   "metadata": {},
   "outputs": [
    {
     "data": {
      "text/plain": [
       "tweet_id            tweet_created            \n",
       "567588278875213824  2015-02-16 23:36:05 -0800    1\n",
       "567590027375702016  2015-02-16 23:43:02 -0800    1\n",
       "567591480085463040  2015-02-16 23:48:48 -0800    1\n",
       "567592368451248130  2015-02-16 23:52:20 -0800    1\n",
       "567594449874587648  2015-02-17 00:00:36 -0800    1\n",
       "                                                ..\n",
       "570309308937842688  2015-02-24 11:48:29 -0800    1\n",
       "570309340952993796  2015-02-24 11:48:37 -0800    1\n",
       "570309345281486848  2015-02-24 11:48:38 -0800    1\n",
       "570310144459972608  2015-02-24 11:51:48 -0800    1\n",
       "570310600460525568  2015-02-24 11:53:37 -0800    1\n",
       "Length: 14485, dtype: int64"
      ]
     },
     "execution_count": 34,
     "metadata": {},
     "output_type": "execute_result"
    }
   ],
   "source": [
    "#check if there are duplicates for tweet_id and tweet_created combination\n",
    "dups_id_and_text = tweets.pivot_table(columns = ['tweet_id', 'tweet_created'], aggfunc='size')\n",
    "dups_id_and_text"
   ]
  },
  {
   "cell_type": "markdown",
   "id": "087b67db",
   "metadata": {},
   "source": [
    "#### Drop Rows<a id='Drop_Rows'></a>"
   ]
  },
  {
   "cell_type": "markdown",
   "id": "ee6e1392",
   "metadata": {},
   "source": [
    "There is 99.7% missing data on the `airline_sentiment_gold` and `negativereason_gold` columns. I will delete them together with `tweet_coord`."
   ]
  },
  {
   "cell_type": "code",
   "execution_count": 35,
   "id": "1bd136a4",
   "metadata": {},
   "outputs": [],
   "source": [
    "tweets = tweets.drop(columns = ['airline_sentiment_gold', 'negativereason_gold', 'tweet_coord'],axis=1)\n"
   ]
  },
  {
   "cell_type": "markdown",
   "id": "1b561f44",
   "metadata": {},
   "source": [
    "#### Disribution Of Numeric Feature Values<a id='Disribution_Of_Numeric_Feature_Values'></a>"
   ]
  },
  {
   "cell_type": "code",
   "execution_count": 13,
   "id": "e0ebb32d",
   "metadata": {},
   "outputs": [
    {
     "data": {
      "image/png": "[encoded data removed]",
      "text/plain": [
       "<Figure size 1500x1000 with 4 Axes>"
      ]
     },
     "metadata": {},
     "output_type": "display_data"
    }
   ],
   "source": [
    "tweets.hist(bins = 150, figsize=(15,10))\n",
    "plt.subplots_adjust(hspace=0.5)"
   ]
  },
  {
   "cell_type": "markdown",
   "id": "10824458",
   "metadata": {},
   "source": [
    "#### Categorical Features <a id = 'Categorical_Features'></a>"
   ]
  },
  {
   "cell_type": "code",
   "execution_count": 14,
   "id": "8b5dfcce",
   "metadata": {},
   "outputs": [
    {
     "data": {
      "text/html": [
       "<div>\n",
       "<style scoped>\n",
       "    .dataframe tbody tr th:only-of-type {\n",
       "        vertical-align: middle;\n",
       "    }\n",
       "\n",
       "    .dataframe tbody tr th {\n",
       "        vertical-align: top;\n",
       "    }\n",
       "\n",
       "    .dataframe thead th {\n",
       "        text-align: right;\n",
       "    }\n",
       "</style>\n",
       "<table border=\"1\" class=\"dataframe\">\n",
       "  <thead>\n",
       "    <tr style=\"text-align: right;\">\n",
       "      <th></th>\n",
       "      <th>count</th>\n",
       "      <th>unique</th>\n",
       "      <th>top</th>\n",
       "      <th>freq</th>\n",
       "    </tr>\n",
       "  </thead>\n",
       "  <tbody>\n",
       "    <tr>\n",
       "      <th>tweet_id</th>\n",
       "      <td>14640</td>\n",
       "      <td>14485</td>\n",
       "      <td>570290034009636865</td>\n",
       "      <td>2</td>\n",
       "    </tr>\n",
       "    <tr>\n",
       "      <th>airline_sentiment</th>\n",
       "      <td>14640</td>\n",
       "      <td>3</td>\n",
       "      <td>negative</td>\n",
       "      <td>9178</td>\n",
       "    </tr>\n",
       "    <tr>\n",
       "      <th>negativereason</th>\n",
       "      <td>9178</td>\n",
       "      <td>10</td>\n",
       "      <td>Customer Service Issue</td>\n",
       "      <td>2910</td>\n",
       "    </tr>\n",
       "    <tr>\n",
       "      <th>airline</th>\n",
       "      <td>14640</td>\n",
       "      <td>6</td>\n",
       "      <td>United</td>\n",
       "      <td>3822</td>\n",
       "    </tr>\n",
       "    <tr>\n",
       "      <th>airline_sentiment_gold</th>\n",
       "      <td>40</td>\n",
       "      <td>3</td>\n",
       "      <td>negative</td>\n",
       "      <td>32</td>\n",
       "    </tr>\n",
       "    <tr>\n",
       "      <th>name</th>\n",
       "      <td>14640</td>\n",
       "      <td>7701</td>\n",
       "      <td>JetBlueNews</td>\n",
       "      <td>63</td>\n",
       "    </tr>\n",
       "    <tr>\n",
       "      <th>negativereason_gold</th>\n",
       "      <td>32</td>\n",
       "      <td>13</td>\n",
       "      <td>Customer Service Issue</td>\n",
       "      <td>12</td>\n",
       "    </tr>\n",
       "    <tr>\n",
       "      <th>text</th>\n",
       "      <td>14640</td>\n",
       "      <td>14427</td>\n",
       "      <td>@united thanks</td>\n",
       "      <td>6</td>\n",
       "    </tr>\n",
       "    <tr>\n",
       "      <th>tweet_coord</th>\n",
       "      <td>1019</td>\n",
       "      <td>832</td>\n",
       "      <td>[0.0, 0.0]</td>\n",
       "      <td>164</td>\n",
       "    </tr>\n",
       "    <tr>\n",
       "      <th>tweet_created</th>\n",
       "      <td>14640</td>\n",
       "      <td>14247</td>\n",
       "      <td>2015-02-24 09:54:34 -0800</td>\n",
       "      <td>5</td>\n",
       "    </tr>\n",
       "    <tr>\n",
       "      <th>tweet_location</th>\n",
       "      <td>9907</td>\n",
       "      <td>3081</td>\n",
       "      <td>Boston, MA</td>\n",
       "      <td>157</td>\n",
       "    </tr>\n",
       "    <tr>\n",
       "      <th>user_timezone</th>\n",
       "      <td>9820</td>\n",
       "      <td>85</td>\n",
       "      <td>Eastern Time (US &amp; Canada)</td>\n",
       "      <td>3744</td>\n",
       "    </tr>\n",
       "  </tbody>\n",
       "</table>\n",
       "</div>"
      ],
      "text/plain": [
       "                        count unique                         top  freq\n",
       "tweet_id                14640  14485          570290034009636865     2\n",
       "airline_sentiment       14640      3                    negative  9178\n",
       "negativereason           9178     10      Customer Service Issue  2910\n",
       "airline                 14640      6                      United  3822\n",
       "airline_sentiment_gold     40      3                    negative    32\n",
       "name                    14640   7701                 JetBlueNews    63\n",
       "negativereason_gold        32     13      Customer Service Issue    12\n",
       "text                    14640  14427              @united thanks     6\n",
       "tweet_coord              1019    832                  [0.0, 0.0]   164\n",
       "tweet_created           14640  14247   2015-02-24 09:54:34 -0800     5\n",
       "tweet_location           9907   3081                  Boston, MA   157\n",
       "user_timezone            9820     85  Eastern Time (US & Canada)  3744"
      ]
     },
     "execution_count": 14,
     "metadata": {},
     "output_type": "execute_result"
    }
   ],
   "source": [
    "tweets.describe(include = ['object', 'bool']).T"
   ]
  },
  {
   "cell_type": "markdown",
   "id": "a562fb34",
   "metadata": {},
   "source": [
    "##### Examine user_timezone and tweet_location <a id='user_timezone_and_tweet_location'></a>"
   ]
  },
  {
   "cell_type": "code",
   "execution_count": 41,
   "id": "1422876e",
   "metadata": {},
   "outputs": [
    {
     "data": {
      "text/plain": [
       "user_timezone  tweet_location           \n",
       "Abu Dhabi      Abu Dhabi                    12\n",
       "               Algiers, Algeria              1\n",
       "               Russia, Россия               10\n",
       "Adelaide       Adelaide, Australia           1\n",
       "               Adelaide, South Australia     3\n",
       "                                            ..\n",
       "Tijuana        Portland, Oregon              1\n",
       "Tokyo          New York, NY                  1\n",
       "Vienna         Vienna, Austria               1\n",
       "               Wien                          1\n",
       "Wellington     shanghai, china.              1\n",
       "Length: 2884, dtype: int64"
      ]
     },
     "execution_count": 41,
     "metadata": {},
     "output_type": "execute_result"
    }
   ],
   "source": [
    "#Check if `user_timezone` and `tweet_loacation` match\n",
    "tweets[['user_timezone','tweet_location']].value_counts().sort_index()"
   ]
  },
  {
   "cell_type": "code",
   "execution_count": 42,
   "id": "e7d37e0c",
   "metadata": {},
   "outputs": [
    {
     "data": {
      "text/html": [
       "<div>\n",
       "<style scoped>\n",
       "    .dataframe tbody tr th:only-of-type {\n",
       "        vertical-align: middle;\n",
       "    }\n",
       "\n",
       "    .dataframe tbody tr th {\n",
       "        vertical-align: top;\n",
       "    }\n",
       "\n",
       "    .dataframe thead th {\n",
       "        text-align: right;\n",
       "    }\n",
       "</style>\n",
       "<table border=\"1\" class=\"dataframe\">\n",
       "  <thead>\n",
       "    <tr style=\"text-align: right;\">\n",
       "      <th></th>\n",
       "      <th>tweet_id</th>\n",
       "      <th>airline_sentiment</th>\n",
       "      <th>airline_sentiment_confidence</th>\n",
       "      <th>negativereason</th>\n",
       "      <th>negativereason_confidence</th>\n",
       "      <th>airline</th>\n",
       "      <th>name</th>\n",
       "      <th>retweet_count</th>\n",
       "      <th>text</th>\n",
       "      <th>tweet_location</th>\n",
       "      <th>user_timezone</th>\n",
       "      <th>created_date</th>\n",
       "      <th>created_hour</th>\n",
       "    </tr>\n",
       "  </thead>\n",
       "  <tbody>\n",
       "    <tr>\n",
       "      <th>3508</th>\n",
       "      <td>568355601144680448</td>\n",
       "      <td>neutral</td>\n",
       "      <td>0.6955</td>\n",
       "      <td>NaN</td>\n",
       "      <td>0.0</td>\n",
       "      <td>United</td>\n",
       "      <td>devonmonique</td>\n",
       "      <td>0</td>\n",
       "      <td>@united I live abroad and am Flight Booking Pr...</td>\n",
       "      <td>shanghai, china.</td>\n",
       "      <td>Wellington</td>\n",
       "      <td>2015-02-19</td>\n",
       "      <td>2</td>\n",
       "    </tr>\n",
       "  </tbody>\n",
       "</table>\n",
       "</div>"
      ],
      "text/plain": [
       "                tweet_id airline_sentiment  airline_sentiment_confidence  \\\n",
       "3508  568355601144680448           neutral                        0.6955   \n",
       "\n",
       "     negativereason  negativereason_confidence airline          name  \\\n",
       "3508            NaN                        0.0  United  devonmonique   \n",
       "\n",
       "      retweet_count                                               text  \\\n",
       "3508              0  @united I live abroad and am Flight Booking Pr...   \n",
       "\n",
       "         tweet_location user_timezone created_date  created_hour  \n",
       "3508  shanghai, china.     Wellington   2015-02-19             2  "
      ]
     },
     "execution_count": 42,
     "metadata": {},
     "output_type": "execute_result"
    }
   ],
   "source": [
    "tweets[tweets.user_timezone == 'Wellington']"
   ]
  },
  {
   "cell_type": "code",
   "execution_count": 43,
   "id": "8318c53c",
   "metadata": {},
   "outputs": [
    {
     "data": {
      "text/plain": [
       "Eastern Time (US & Canada)     98\n",
       "Central Time (US & Canada)     17\n",
       "Pacific Time (US & Canada)      9\n",
       "Quito                           7\n",
       "Atlantic Time (Canada)          5\n",
       "Arizona                         1\n",
       "Hawaii                          1\n",
       "America/New_York                1\n",
       "Mountain Time (US & Canada)     1\n",
       "Tokyo                           1\n",
       "Name: user_timezone, dtype: int64"
      ]
     },
     "execution_count": 43,
     "metadata": {},
     "output_type": "execute_result"
    }
   ],
   "source": [
    "tweets[tweets.tweet_location == 'New York, NY']['user_timezone'].value_counts()\n"
   ]
  },
  {
   "cell_type": "markdown",
   "id": "efd413b6",
   "metadata": {},
   "source": [
    "`user_timezone` and `tweet_loacation` don't match. It could be possible because of traveling."
   ]
  },
  {
   "cell_type": "markdown",
   "id": "e2aacedc",
   "metadata": {},
   "source": [
    "##### Derive New Features<a id='Derive_New_Features'></a>"
   ]
  },
  {
   "cell_type": "code",
   "execution_count": 13,
   "id": "13c3497f",
   "metadata": {},
   "outputs": [
    {
     "name": "stdout",
     "output_type": "stream",
     "text": [
      "2015-02-24 11:53:37 -0800 2015-02-16 23:36:05 -0800\n"
     ]
    }
   ],
   "source": [
    "#Find out the earliest and latest time for the dataset\n",
    "latest = max(tweets['tweet_created'])\n",
    "earliest = min(tweets['tweet_created'])\n",
    "print(latest, earliest)"
   ]
  },
  {
   "cell_type": "code",
   "execution_count": 38,
   "id": "1cb6e693",
   "metadata": {},
   "outputs": [
    {
     "data": {
      "text/html": [
       "<div>\n",
       "<style scoped>\n",
       "    .dataframe tbody tr th:only-of-type {\n",
       "        vertical-align: middle;\n",
       "    }\n",
       "\n",
       "    .dataframe tbody tr th {\n",
       "        vertical-align: top;\n",
       "    }\n",
       "\n",
       "    .dataframe thead th {\n",
       "        text-align: right;\n",
       "    }\n",
       "</style>\n",
       "<table border=\"1\" class=\"dataframe\">\n",
       "  <thead>\n",
       "    <tr style=\"text-align: right;\">\n",
       "      <th></th>\n",
       "      <th>tweet_id</th>\n",
       "      <th>airline_sentiment</th>\n",
       "      <th>airline_sentiment_confidence</th>\n",
       "      <th>negativereason</th>\n",
       "      <th>negativereason_confidence</th>\n",
       "      <th>airline</th>\n",
       "      <th>name</th>\n",
       "      <th>retweet_count</th>\n",
       "      <th>text</th>\n",
       "      <th>tweet_location</th>\n",
       "      <th>user_timezone</th>\n",
       "      <th>created_date</th>\n",
       "      <th>created_hour</th>\n",
       "    </tr>\n",
       "  </thead>\n",
       "  <tbody>\n",
       "    <tr>\n",
       "      <th>14635</th>\n",
       "      <td>569587686496825344</td>\n",
       "      <td>positive</td>\n",
       "      <td>0.3487</td>\n",
       "      <td>NaN</td>\n",
       "      <td>0.0000</td>\n",
       "      <td>American</td>\n",
       "      <td>KristenReenders</td>\n",
       "      <td>0</td>\n",
       "      <td>@AmericanAir thank you we got on a different f...</td>\n",
       "      <td>NaN</td>\n",
       "      <td>NaN</td>\n",
       "      <td>2015-02-22</td>\n",
       "      <td>12</td>\n",
       "    </tr>\n",
       "    <tr>\n",
       "      <th>14636</th>\n",
       "      <td>569587371693355008</td>\n",
       "      <td>negative</td>\n",
       "      <td>1.0000</td>\n",
       "      <td>Customer Service Issue</td>\n",
       "      <td>1.0000</td>\n",
       "      <td>American</td>\n",
       "      <td>itsropes</td>\n",
       "      <td>0</td>\n",
       "      <td>@AmericanAir leaving over 20 minutes Late Flig...</td>\n",
       "      <td>Texas</td>\n",
       "      <td>NaN</td>\n",
       "      <td>2015-02-22</td>\n",
       "      <td>11</td>\n",
       "    </tr>\n",
       "    <tr>\n",
       "      <th>14637</th>\n",
       "      <td>569587242672398336</td>\n",
       "      <td>neutral</td>\n",
       "      <td>1.0000</td>\n",
       "      <td>NaN</td>\n",
       "      <td>NaN</td>\n",
       "      <td>American</td>\n",
       "      <td>sanyabun</td>\n",
       "      <td>0</td>\n",
       "      <td>@AmericanAir Please bring American Airlines to...</td>\n",
       "      <td>Nigeria,lagos</td>\n",
       "      <td>NaN</td>\n",
       "      <td>2015-02-22</td>\n",
       "      <td>11</td>\n",
       "    </tr>\n",
       "    <tr>\n",
       "      <th>14638</th>\n",
       "      <td>569587188687634433</td>\n",
       "      <td>negative</td>\n",
       "      <td>1.0000</td>\n",
       "      <td>Customer Service Issue</td>\n",
       "      <td>0.6659</td>\n",
       "      <td>American</td>\n",
       "      <td>SraJackson</td>\n",
       "      <td>0</td>\n",
       "      <td>@AmericanAir you have my money, you change my ...</td>\n",
       "      <td>New Jersey</td>\n",
       "      <td>Eastern Time (US &amp; Canada)</td>\n",
       "      <td>2015-02-22</td>\n",
       "      <td>11</td>\n",
       "    </tr>\n",
       "    <tr>\n",
       "      <th>14639</th>\n",
       "      <td>569587140490866689</td>\n",
       "      <td>neutral</td>\n",
       "      <td>0.6771</td>\n",
       "      <td>NaN</td>\n",
       "      <td>0.0000</td>\n",
       "      <td>American</td>\n",
       "      <td>daviddtwu</td>\n",
       "      <td>0</td>\n",
       "      <td>@AmericanAir we have 8 ppl so we need 2 know h...</td>\n",
       "      <td>dallas, TX</td>\n",
       "      <td>NaN</td>\n",
       "      <td>2015-02-22</td>\n",
       "      <td>11</td>\n",
       "    </tr>\n",
       "  </tbody>\n",
       "</table>\n",
       "</div>"
      ],
      "text/plain": [
       "                 tweet_id airline_sentiment  airline_sentiment_confidence  \\\n",
       "14635  569587686496825344          positive                        0.3487   \n",
       "14636  569587371693355008          negative                        1.0000   \n",
       "14637  569587242672398336           neutral                        1.0000   \n",
       "14638  569587188687634433          negative                        1.0000   \n",
       "14639  569587140490866689           neutral                        0.6771   \n",
       "\n",
       "               negativereason  negativereason_confidence   airline  \\\n",
       "14635                     NaN                     0.0000  American   \n",
       "14636  Customer Service Issue                     1.0000  American   \n",
       "14637                     NaN                        NaN  American   \n",
       "14638  Customer Service Issue                     0.6659  American   \n",
       "14639                     NaN                     0.0000  American   \n",
       "\n",
       "                  name  retweet_count  \\\n",
       "14635  KristenReenders              0   \n",
       "14636         itsropes              0   \n",
       "14637         sanyabun              0   \n",
       "14638       SraJackson              0   \n",
       "14639        daviddtwu              0   \n",
       "\n",
       "                                                    text tweet_location  \\\n",
       "14635  @AmericanAir thank you we got on a different f...            NaN   \n",
       "14636  @AmericanAir leaving over 20 minutes Late Flig...          Texas   \n",
       "14637  @AmericanAir Please bring American Airlines to...  Nigeria,lagos   \n",
       "14638  @AmericanAir you have my money, you change my ...     New Jersey   \n",
       "14639  @AmericanAir we have 8 ppl so we need 2 know h...     dallas, TX   \n",
       "\n",
       "                    user_timezone created_date  created_hour  \n",
       "14635                         NaN   2015-02-22            12  \n",
       "14636                         NaN   2015-02-22            11  \n",
       "14637                         NaN   2015-02-22            11  \n",
       "14638  Eastern Time (US & Canada)   2015-02-22            11  \n",
       "14639                         NaN   2015-02-22            11  "
      ]
     },
     "execution_count": 38,
     "metadata": {},
     "output_type": "execute_result"
    }
   ],
   "source": [
    "# I created two new columns, 'created_date' and 'created_hour,' to separate date and hour information. \n",
    "\n",
    "created_time = pd.to_datetime(tweets['tweet_created'], format ='%Y-%m-%dT%H:%M:%S.%f')\n",
    "\n",
    "tweets['created_date']=created_time.dt.date\n",
    "tweets['created_hour']=created_time.dt.hour\n",
    "tweets = tweets.drop(columns = ['tweet_created'],axis=1)\n",
    "tweets.tail()"
   ]
  },
  {
   "cell_type": "markdown",
   "id": "a7284c69",
   "metadata": {},
   "source": [
    "#####  Distribution Of Categorical Feature Values<a id='Disribution_Of_Categorical_Feature_Values'></a>"
   ]
  },
  {
   "cell_type": "code",
   "execution_count": 40,
   "id": "6680c92c",
   "metadata": {},
   "outputs": [
    {
     "data": {
      "image/png": "[encoded data removed]",
      "text/plain": [
       "<Figure size 2000x1500 with 4 Axes>"
      ]
     },
     "metadata": {},
     "output_type": "display_data"
    }
   ],
   "source": [
    "fig, ax = plt.subplots(2, 2, figsize=(20,15))\n",
    "\n",
    "tweets.airline_sentiment.value_counts().plot(kind='barh', ax=ax[0,0])\n",
    "ax[0,0].set_title('airline_sentiment', fontweight=\"bold\", size=20)\n",
    "\n",
    "tweets.airline.value_counts().plot(kind='barh', ax=ax[0,1])\n",
    "ax[0,1].set_title('airline', fontweight=\"bold\", size=20)\n",
    "\n",
    "tweets.created_hour.value_counts().plot(kind='barh', ax=ax[1,0])\n",
    "ax[1,0].set_title('created_hour', fontweight=\"bold\", size=20)\n",
    "\n",
    "tweets.created_date.value_counts().plot(kind='barh', ax=ax[1,1])\n",
    "ax[1,1].set_title('created_date', fontweight=\"bold\", size=20)\n",
    "\n",
    "\n",
    "\n",
    "plt.subplots_adjust(wspace=0.5,hspace=1)\n"
   ]
  },
  {
   "cell_type": "code",
   "execution_count": 44,
   "id": "7baaf855",
   "metadata": {},
   "outputs": [
    {
     "name": "stdout",
     "output_type": "stream",
     "text": [
      "<class 'pandas.core.frame.DataFrame'>\n",
      "RangeIndex: 14640 entries, 0 to 14639\n",
      "Data columns (total 13 columns):\n",
      " #   Column                        Non-Null Count  Dtype  \n",
      "---  ------                        --------------  -----  \n",
      " 0   tweet_id                      14640 non-null  object \n",
      " 1   airline_sentiment             14640 non-null  object \n",
      " 2   airline_sentiment_confidence  14640 non-null  float64\n",
      " 3   negativereason                9178 non-null   object \n",
      " 4   negativereason_confidence     10522 non-null  float64\n",
      " 5   airline                       14640 non-null  object \n",
      " 6   name                          14640 non-null  object \n",
      " 7   retweet_count                 14640 non-null  int64  \n",
      " 8   text                          14640 non-null  object \n",
      " 9   tweet_location                9907 non-null   object \n",
      " 10  user_timezone                 9820 non-null   object \n",
      " 11  created_date                  14640 non-null  object \n",
      " 12  created_hour                  14640 non-null  int64  \n",
      "dtypes: float64(2), int64(2), object(9)\n",
      "memory usage: 1.5+ MB\n"
     ]
    }
   ],
   "source": [
    "tweets.info()"
   ]
  },
  {
   "cell_type": "markdown",
   "id": "01a15e2a",
   "metadata": {},
   "source": [
    "### Save The Dataset<a id='Save_The_Dataset'></a>\n",
    "***"
   ]
  },
  {
   "cell_type": "code",
   "execution_count": 45,
   "id": "b161dc6f",
   "metadata": {},
   "outputs": [],
   "source": [
    "tweets_cleaned = tweets.copy()\n",
    "tweets_cleaned.to_csv('tweets_cleaned.csv')\n"
   ]
  },
  {
   "cell_type": "code",
   "execution_count": 42,
   "id": "c50a5cdd",
   "metadata": {},
   "outputs": [],
   "source": []
  },
  {
   "cell_type": "code",
   "execution_count": null,
   "id": "e49e6007",
   "metadata": {},
   "outputs": [],
   "source": []
  }
 ],
 "metadata": {
  "kernelspec": {
   "display_name": "Python 3 (ipykernel)",
   "language": "python",
   "name": "python3"
  },
  "language_info": {
   "codemirror_mode": {
    "name": "ipython",
    "version": 3
   },
   "file_extension": ".py",
   "mimetype": "text/x-python",
   "name": "python",
   "nbconvert_exporter": "python",
   "pygments_lexer": "ipython3",
   "version": "3.7.4"
  }
 },
 "nbformat": 4,
 "nbformat_minor": 5
}
